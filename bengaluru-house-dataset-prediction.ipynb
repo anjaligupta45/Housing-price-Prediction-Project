{
 "cells": [
  {
   "cell_type": "markdown",
   "id": "38333edf",
   "metadata": {
    "papermill": {
     "duration": 0.018792,
     "end_time": "2023-03-18T14:23:04.200200",
     "exception": false,
     "start_time": "2023-03-18T14:23:04.181408",
     "status": "completed"
    },
    "tags": []
   },
   "source": [
    "# Import Modules"
   ]
  },
  {
   "cell_type": "code",
   "execution_count": 1,
   "id": "84149076",
   "metadata": {
    "execution": {
     "iopub.execute_input": "2023-03-18T14:23:04.237874Z",
     "iopub.status.busy": "2023-03-18T14:23:04.237454Z",
     "iopub.status.idle": "2023-03-18T14:23:05.487083Z",
     "shell.execute_reply": "2023-03-18T14:23:05.485930Z"
    },
    "papermill": {
     "duration": 1.272486,
     "end_time": "2023-03-18T14:23:05.489944",
     "exception": false,
     "start_time": "2023-03-18T14:23:04.217458",
     "status": "completed"
    },
    "tags": []
   },
   "outputs": [],
   "source": [
    "import numpy as np\n",
    "import pandas as pd\n",
    "import matplotlib.pyplot as plt\n",
    "import seaborn as sns"
   ]
  },
  {
   "cell_type": "markdown",
   "id": "a62a3561",
   "metadata": {
    "papermill": {
     "duration": 0.01649,
     "end_time": "2023-03-18T14:23:05.523502",
     "exception": false,
     "start_time": "2023-03-18T14:23:05.507012",
     "status": "completed"
    },
    "tags": []
   },
   "source": [
    "# Read & Check Data"
   ]
  },
  {
   "cell_type": "code",
   "execution_count": 2,
   "id": "dde72218",
   "metadata": {
    "execution": {
     "iopub.execute_input": "2023-03-18T14:23:05.558542Z",
     "iopub.status.busy": "2023-03-18T14:23:05.558123Z",
     "iopub.status.idle": "2023-03-18T14:23:05.647387Z",
     "shell.execute_reply": "2023-03-18T14:23:05.646521Z"
    },
    "papermill": {
     "duration": 0.110086,
     "end_time": "2023-03-18T14:23:05.649964",
     "exception": false,
     "start_time": "2023-03-18T14:23:05.539878",
     "status": "completed"
    },
    "tags": []
   },
   "outputs": [
    {
     "data": {
      "text/html": [
       "<div>\n",
       "<style scoped>\n",
       "    .dataframe tbody tr th:only-of-type {\n",
       "        vertical-align: middle;\n",
       "    }\n",
       "\n",
       "    .dataframe tbody tr th {\n",
       "        vertical-align: top;\n",
       "    }\n",
       "\n",
       "    .dataframe thead th {\n",
       "        text-align: right;\n",
       "    }\n",
       "</style>\n",
       "<table border=\"1\" class=\"dataframe\">\n",
       "  <thead>\n",
       "    <tr style=\"text-align: right;\">\n",
       "      <th></th>\n",
       "      <th>area_type</th>\n",
       "      <th>availability</th>\n",
       "      <th>location</th>\n",
       "      <th>size</th>\n",
       "      <th>society</th>\n",
       "      <th>total_sqft</th>\n",
       "      <th>bath</th>\n",
       "      <th>balcony</th>\n",
       "      <th>price</th>\n",
       "    </tr>\n",
       "  </thead>\n",
       "  <tbody>\n",
       "    <tr>\n",
       "      <th>0</th>\n",
       "      <td>Super built-up  Area</td>\n",
       "      <td>19-Dec</td>\n",
       "      <td>Electronic City Phase II</td>\n",
       "      <td>2 BHK</td>\n",
       "      <td>Coomee</td>\n",
       "      <td>1056</td>\n",
       "      <td>2.0</td>\n",
       "      <td>1.0</td>\n",
       "      <td>39.07</td>\n",
       "    </tr>\n",
       "    <tr>\n",
       "      <th>1</th>\n",
       "      <td>Plot  Area</td>\n",
       "      <td>Ready To Move</td>\n",
       "      <td>Chikka Tirupathi</td>\n",
       "      <td>4 Bedroom</td>\n",
       "      <td>Theanmp</td>\n",
       "      <td>2600</td>\n",
       "      <td>5.0</td>\n",
       "      <td>3.0</td>\n",
       "      <td>120.00</td>\n",
       "    </tr>\n",
       "    <tr>\n",
       "      <th>2</th>\n",
       "      <td>Built-up  Area</td>\n",
       "      <td>Ready To Move</td>\n",
       "      <td>Uttarahalli</td>\n",
       "      <td>3 BHK</td>\n",
       "      <td>NaN</td>\n",
       "      <td>1440</td>\n",
       "      <td>2.0</td>\n",
       "      <td>3.0</td>\n",
       "      <td>62.00</td>\n",
       "    </tr>\n",
       "    <tr>\n",
       "      <th>3</th>\n",
       "      <td>Super built-up  Area</td>\n",
       "      <td>Ready To Move</td>\n",
       "      <td>Lingadheeranahalli</td>\n",
       "      <td>3 BHK</td>\n",
       "      <td>Soiewre</td>\n",
       "      <td>1521</td>\n",
       "      <td>3.0</td>\n",
       "      <td>1.0</td>\n",
       "      <td>95.00</td>\n",
       "    </tr>\n",
       "    <tr>\n",
       "      <th>4</th>\n",
       "      <td>Super built-up  Area</td>\n",
       "      <td>Ready To Move</td>\n",
       "      <td>Kothanur</td>\n",
       "      <td>2 BHK</td>\n",
       "      <td>NaN</td>\n",
       "      <td>1200</td>\n",
       "      <td>2.0</td>\n",
       "      <td>1.0</td>\n",
       "      <td>51.00</td>\n",
       "    </tr>\n",
       "  </tbody>\n",
       "</table>\n",
       "</div>"
      ],
      "text/plain": [
       "              area_type   availability                  location       size  \\\n",
       "0  Super built-up  Area         19-Dec  Electronic City Phase II      2 BHK   \n",
       "1            Plot  Area  Ready To Move          Chikka Tirupathi  4 Bedroom   \n",
       "2        Built-up  Area  Ready To Move               Uttarahalli      3 BHK   \n",
       "3  Super built-up  Area  Ready To Move        Lingadheeranahalli      3 BHK   \n",
       "4  Super built-up  Area  Ready To Move                  Kothanur      2 BHK   \n",
       "\n",
       "   society total_sqft  bath  balcony   price  \n",
       "0  Coomee        1056   2.0      1.0   39.07  \n",
       "1  Theanmp       2600   5.0      3.0  120.00  \n",
       "2      NaN       1440   2.0      3.0   62.00  \n",
       "3  Soiewre       1521   3.0      1.0   95.00  \n",
       "4      NaN       1200   2.0      1.0   51.00  "
      ]
     },
     "execution_count": 2,
     "metadata": {},
     "output_type": "execute_result"
    }
   ],
   "source": [
    "#Read the data\n",
    "org_df = pd.read_csv('Dataset.csv')\n",
    "df = org_df.copy()\n",
    "df.head()"
   ]
  },
  {
   "cell_type": "code",
   "execution_count": 3,
   "id": "8840795f",
   "metadata": {
    "execution": {
     "iopub.execute_input": "2023-03-18T14:23:05.686411Z",
     "iopub.status.busy": "2023-03-18T14:23:05.685251Z",
     "iopub.status.idle": "2023-03-18T14:23:05.692734Z",
     "shell.execute_reply": "2023-03-18T14:23:05.691793Z"
    },
    "papermill": {
     "duration": 0.027982,
     "end_time": "2023-03-18T14:23:05.695028",
     "exception": false,
     "start_time": "2023-03-18T14:23:05.667046",
     "status": "completed"
    },
    "tags": []
   },
   "outputs": [
    {
     "data": {
      "text/plain": [
       "(13320, 9)"
      ]
     },
     "execution_count": 3,
     "metadata": {},
     "output_type": "execute_result"
    }
   ],
   "source": [
    "#number of rows and columns of df_train dataset\n",
    "df.shape"
   ]
  },
  {
   "cell_type": "code",
   "execution_count": 4,
   "id": "a82fa5ed",
   "metadata": {
    "execution": {
     "iopub.execute_input": "2023-03-18T14:23:05.731384Z",
     "iopub.status.busy": "2023-03-18T14:23:05.730153Z",
     "iopub.status.idle": "2023-03-18T14:23:05.761528Z",
     "shell.execute_reply": "2023-03-18T14:23:05.760272Z"
    },
    "papermill": {
     "duration": 0.052652,
     "end_time": "2023-03-18T14:23:05.764390",
     "exception": false,
     "start_time": "2023-03-18T14:23:05.711738",
     "status": "completed"
    },
    "tags": []
   },
   "outputs": [
    {
     "name": "stdout",
     "output_type": "stream",
     "text": [
      "<class 'pandas.core.frame.DataFrame'>\n",
      "RangeIndex: 13320 entries, 0 to 13319\n",
      "Data columns (total 9 columns):\n",
      " #   Column        Non-Null Count  Dtype  \n",
      "---  ------        --------------  -----  \n",
      " 0   area_type     13320 non-null  object \n",
      " 1   availability  13320 non-null  object \n",
      " 2   location      13319 non-null  object \n",
      " 3   size          13304 non-null  object \n",
      " 4   society       7818 non-null   object \n",
      " 5   total_sqft    13320 non-null  object \n",
      " 6   bath          13247 non-null  float64\n",
      " 7   balcony       12711 non-null  float64\n",
      " 8   price         13320 non-null  float64\n",
      "dtypes: float64(3), object(6)\n",
      "memory usage: 936.7+ KB\n"
     ]
    }
   ],
   "source": [
    "#information of the data\n",
    "df.info()"
   ]
  },
  {
   "cell_type": "code",
   "execution_count": 5,
   "id": "b9333ebc",
   "metadata": {
    "execution": {
     "iopub.execute_input": "2023-03-18T14:23:05.801307Z",
     "iopub.status.busy": "2023-03-18T14:23:05.800887Z",
     "iopub.status.idle": "2023-03-18T14:23:05.826117Z",
     "shell.execute_reply": "2023-03-18T14:23:05.825159Z"
    },
    "papermill": {
     "duration": 0.046511,
     "end_time": "2023-03-18T14:23:05.828546",
     "exception": false,
     "start_time": "2023-03-18T14:23:05.782035",
     "status": "completed"
    },
    "tags": []
   },
   "outputs": [
    {
     "data": {
      "text/html": [
       "<div>\n",
       "<style scoped>\n",
       "    .dataframe tbody tr th:only-of-type {\n",
       "        vertical-align: middle;\n",
       "    }\n",
       "\n",
       "    .dataframe tbody tr th {\n",
       "        vertical-align: top;\n",
       "    }\n",
       "\n",
       "    .dataframe thead th {\n",
       "        text-align: right;\n",
       "    }\n",
       "</style>\n",
       "<table border=\"1\" class=\"dataframe\">\n",
       "  <thead>\n",
       "    <tr style=\"text-align: right;\">\n",
       "      <th></th>\n",
       "      <th>bath</th>\n",
       "      <th>balcony</th>\n",
       "      <th>price</th>\n",
       "    </tr>\n",
       "  </thead>\n",
       "  <tbody>\n",
       "    <tr>\n",
       "      <th>count</th>\n",
       "      <td>13247.000000</td>\n",
       "      <td>12711.000000</td>\n",
       "      <td>13320.000000</td>\n",
       "    </tr>\n",
       "    <tr>\n",
       "      <th>mean</th>\n",
       "      <td>2.692610</td>\n",
       "      <td>1.584376</td>\n",
       "      <td>112.565627</td>\n",
       "    </tr>\n",
       "    <tr>\n",
       "      <th>std</th>\n",
       "      <td>1.341458</td>\n",
       "      <td>0.817263</td>\n",
       "      <td>148.971674</td>\n",
       "    </tr>\n",
       "    <tr>\n",
       "      <th>min</th>\n",
       "      <td>1.000000</td>\n",
       "      <td>0.000000</td>\n",
       "      <td>8.000000</td>\n",
       "    </tr>\n",
       "    <tr>\n",
       "      <th>25%</th>\n",
       "      <td>2.000000</td>\n",
       "      <td>1.000000</td>\n",
       "      <td>50.000000</td>\n",
       "    </tr>\n",
       "    <tr>\n",
       "      <th>50%</th>\n",
       "      <td>2.000000</td>\n",
       "      <td>2.000000</td>\n",
       "      <td>72.000000</td>\n",
       "    </tr>\n",
       "    <tr>\n",
       "      <th>75%</th>\n",
       "      <td>3.000000</td>\n",
       "      <td>2.000000</td>\n",
       "      <td>120.000000</td>\n",
       "    </tr>\n",
       "    <tr>\n",
       "      <th>max</th>\n",
       "      <td>40.000000</td>\n",
       "      <td>3.000000</td>\n",
       "      <td>3600.000000</td>\n",
       "    </tr>\n",
       "  </tbody>\n",
       "</table>\n",
       "</div>"
      ],
      "text/plain": [
       "               bath       balcony         price\n",
       "count  13247.000000  12711.000000  13320.000000\n",
       "mean       2.692610      1.584376    112.565627\n",
       "std        1.341458      0.817263    148.971674\n",
       "min        1.000000      0.000000      8.000000\n",
       "25%        2.000000      1.000000     50.000000\n",
       "50%        2.000000      2.000000     72.000000\n",
       "75%        3.000000      2.000000    120.000000\n",
       "max       40.000000      3.000000   3600.000000"
      ]
     },
     "execution_count": 5,
     "metadata": {},
     "output_type": "execute_result"
    }
   ],
   "source": [
    "#mathematical overview of the numerical data\n",
    "df.describe()"
   ]
  },
  {
   "cell_type": "code",
   "execution_count": 6,
   "id": "cd39aaa0",
   "metadata": {
    "execution": {
     "iopub.execute_input": "2023-03-18T14:23:05.866733Z",
     "iopub.status.busy": "2023-03-18T14:23:05.865667Z",
     "iopub.status.idle": "2023-03-18T14:23:05.900894Z",
     "shell.execute_reply": "2023-03-18T14:23:05.899504Z"
    },
    "papermill": {
     "duration": 0.056953,
     "end_time": "2023-03-18T14:23:05.903701",
     "exception": false,
     "start_time": "2023-03-18T14:23:05.846748",
     "status": "completed"
    },
    "tags": []
   },
   "outputs": [
    {
     "data": {
      "text/html": [
       "<div>\n",
       "<style scoped>\n",
       "    .dataframe tbody tr th:only-of-type {\n",
       "        vertical-align: middle;\n",
       "    }\n",
       "\n",
       "    .dataframe tbody tr th {\n",
       "        vertical-align: top;\n",
       "    }\n",
       "\n",
       "    .dataframe thead th {\n",
       "        text-align: right;\n",
       "    }\n",
       "</style>\n",
       "<table border=\"1\" class=\"dataframe\">\n",
       "  <thead>\n",
       "    <tr style=\"text-align: right;\">\n",
       "      <th></th>\n",
       "      <th>area_type</th>\n",
       "      <th>availability</th>\n",
       "      <th>location</th>\n",
       "      <th>size</th>\n",
       "      <th>society</th>\n",
       "      <th>total_sqft</th>\n",
       "    </tr>\n",
       "  </thead>\n",
       "  <tbody>\n",
       "    <tr>\n",
       "      <th>count</th>\n",
       "      <td>13320</td>\n",
       "      <td>13320</td>\n",
       "      <td>13319</td>\n",
       "      <td>13304</td>\n",
       "      <td>7818</td>\n",
       "      <td>13320</td>\n",
       "    </tr>\n",
       "    <tr>\n",
       "      <th>unique</th>\n",
       "      <td>4</td>\n",
       "      <td>81</td>\n",
       "      <td>1305</td>\n",
       "      <td>31</td>\n",
       "      <td>2688</td>\n",
       "      <td>2117</td>\n",
       "    </tr>\n",
       "    <tr>\n",
       "      <th>top</th>\n",
       "      <td>Super built-up  Area</td>\n",
       "      <td>Ready To Move</td>\n",
       "      <td>Whitefield</td>\n",
       "      <td>2 BHK</td>\n",
       "      <td>GrrvaGr</td>\n",
       "      <td>1200</td>\n",
       "    </tr>\n",
       "    <tr>\n",
       "      <th>freq</th>\n",
       "      <td>8790</td>\n",
       "      <td>10581</td>\n",
       "      <td>540</td>\n",
       "      <td>5199</td>\n",
       "      <td>80</td>\n",
       "      <td>843</td>\n",
       "    </tr>\n",
       "  </tbody>\n",
       "</table>\n",
       "</div>"
      ],
      "text/plain": [
       "                   area_type   availability    location   size  society  \\\n",
       "count                  13320          13320       13319  13304     7818   \n",
       "unique                     4             81        1305     31     2688   \n",
       "top     Super built-up  Area  Ready To Move  Whitefield  2 BHK  GrrvaGr   \n",
       "freq                    8790          10581         540   5199       80   \n",
       "\n",
       "       total_sqft  \n",
       "count       13320  \n",
       "unique       2117  \n",
       "top          1200  \n",
       "freq          843  "
      ]
     },
     "execution_count": 6,
     "metadata": {},
     "output_type": "execute_result"
    }
   ],
   "source": [
    "# mathematical overview of the object data\n",
    "df.describe(include=\"object\")"
   ]
  },
  {
   "cell_type": "code",
   "execution_count": 7,
   "id": "1072e31f",
   "metadata": {
    "execution": {
     "iopub.execute_input": "2023-03-18T14:23:05.940594Z",
     "iopub.status.busy": "2023-03-18T14:23:05.940166Z",
     "iopub.status.idle": "2023-03-18T14:23:06.282618Z",
     "shell.execute_reply": "2023-03-18T14:23:06.281591Z"
    },
    "papermill": {
     "duration": 0.363996,
     "end_time": "2023-03-18T14:23:06.285305",
     "exception": false,
     "start_time": "2023-03-18T14:23:05.921309",
     "status": "completed"
    },
    "tags": []
   },
   "outputs": [
    {
     "name": "stderr",
     "output_type": "stream",
     "text": [
      "<ipython-input-7-8d748738f694>:2: FutureWarning: The default value of numeric_only in DataFrame.corr is deprecated. In a future version, it will default to False. Select only valid columns or specify the value of numeric_only to silence this warning.\n",
      "  sns.heatmap(df.corr(), cmap=\"YlGnBu\", annot=True)\n"
     ]
    },
    {
     "data": {
      "text/plain": [
       "<AxesSubplot: >"
      ]
     },
     "execution_count": 7,
     "metadata": {},
     "output_type": "execute_result"
    },
    {
     "data": {
      "image/png": "[encoded data removed]",
      "text/plain": [
       "<Figure size 432x288 with 2 Axes>"
      ]
     },
     "metadata": {
      "needs_background": "light"
     },
     "output_type": "display_data"
    }
   ],
   "source": [
    "#correlation\n",
    "sns.heatmap(df.corr(), cmap=\"YlGnBu\", annot=True)"
   ]
  },
  {
   "cell_type": "markdown",
   "id": "20ed155b",
   "metadata": {
    "papermill": {
     "duration": 0.017503,
     "end_time": "2023-03-18T14:23:06.321130",
     "exception": false,
     "start_time": "2023-03-18T14:23:06.303627",
     "status": "completed"
    },
    "tags": []
   },
   "source": [
    "From above information, balcony column has very less correlation with price and bath so, we can remove this column"
   ]
  },
  {
   "cell_type": "code",
   "execution_count": 8,
   "id": "8295f661",
   "metadata": {
    "execution": {
     "iopub.execute_input": "2023-03-18T14:23:06.359962Z",
     "iopub.status.busy": "2023-03-18T14:23:06.359161Z",
     "iopub.status.idle": "2023-03-18T14:23:06.375345Z",
     "shell.execute_reply": "2023-03-18T14:23:06.373775Z"
    },
    "papermill": {
     "duration": 0.039982,
     "end_time": "2023-03-18T14:23:06.379110",
     "exception": false,
     "start_time": "2023-03-18T14:23:06.339128",
     "status": "completed"
    },
    "tags": []
   },
   "outputs": [
    {
     "name": "stdout",
     "output_type": "stream",
     "text": [
      "area_type 4\n",
      "availability 81\n",
      "location 1305\n",
      "size 31\n",
      "society 2688\n",
      "total_sqft 2117\n",
      "bath 19\n",
      "balcony 4\n",
      "price 1994\n"
     ]
    }
   ],
   "source": [
    "#Number of unique values\n",
    "for feature in df:\n",
    "    print(f\"{feature}\",df[feature].nunique())"
   ]
  },
  {
   "cell_type": "markdown",
   "id": "9c27f290",
   "metadata": {
    "papermill": {
     "duration": 0.01764,
     "end_time": "2023-03-18T14:23:06.415569",
     "exception": false,
     "start_time": "2023-03-18T14:23:06.397929",
     "status": "completed"
    },
    "tags": []
   },
   "source": [
    "# Data Cleaning"
   ]
  },
  {
   "cell_type": "code",
   "execution_count": 9,
   "id": "0a2ddd80",
   "metadata": {
    "execution": {
     "iopub.execute_input": "2023-03-18T14:23:06.453513Z",
     "iopub.status.busy": "2023-03-18T14:23:06.452794Z",
     "iopub.status.idle": "2023-03-18T14:23:06.468040Z",
     "shell.execute_reply": "2023-03-18T14:23:06.466892Z"
    },
    "papermill": {
     "duration": 0.037148,
     "end_time": "2023-03-18T14:23:06.470557",
     "exception": false,
     "start_time": "2023-03-18T14:23:06.433409",
     "status": "completed"
    },
    "scrolled": true,
    "tags": []
   },
   "outputs": [
    {
     "data": {
      "text/plain": [
       "area_type        0.000000\n",
       "availability     0.000000\n",
       "location         0.007508\n",
       "size             0.120120\n",
       "society         41.306306\n",
       "total_sqft       0.000000\n",
       "bath             0.548048\n",
       "balcony          4.572072\n",
       "price            0.000000\n",
       "dtype: float64"
      ]
     },
     "execution_count": 9,
     "metadata": {},
     "output_type": "execute_result"
    }
   ],
   "source": [
    "#Percentage of missing values\n",
    "df.isnull().sum()*100/df.shape[0]"
   ]
  },
  {
   "cell_type": "markdown",
   "id": "ecc05ae8",
   "metadata": {
    "papermill": {
     "duration": 0.017994,
     "end_time": "2023-03-18T14:23:06.508034",
     "exception": false,
     "start_time": "2023-03-18T14:23:06.490040",
     "status": "completed"
    },
    "tags": []
   },
   "source": [
    "From above information, society column has more than 30% of missing values so, we can remove this column\n",
    "and other can be filled with mean, mode or simply drop those rows."
   ]
  },
  {
   "cell_type": "code",
   "execution_count": 10,
   "id": "587c62af",
   "metadata": {
    "execution": {
     "iopub.execute_input": "2023-03-18T14:23:06.547632Z",
     "iopub.status.busy": "2023-03-18T14:23:06.547225Z",
     "iopub.status.idle": "2023-03-18T14:23:06.561859Z",
     "shell.execute_reply": "2023-03-18T14:23:06.560798Z"
    },
    "papermill": {
     "duration": 0.038,
     "end_time": "2023-03-18T14:23:06.564130",
     "exception": false,
     "start_time": "2023-03-18T14:23:06.526130",
     "status": "completed"
    },
    "scrolled": true,
    "tags": []
   },
   "outputs": [
    {
     "data": {
      "text/html": [
       "<div>\n",
       "<style scoped>\n",
       "    .dataframe tbody tr th:only-of-type {\n",
       "        vertical-align: middle;\n",
       "    }\n",
       "\n",
       "    .dataframe tbody tr th {\n",
       "        vertical-align: top;\n",
       "    }\n",
       "\n",
       "    .dataframe thead th {\n",
       "        text-align: right;\n",
       "    }\n",
       "</style>\n",
       "<table border=\"1\" class=\"dataframe\">\n",
       "  <thead>\n",
       "    <tr style=\"text-align: right;\">\n",
       "      <th></th>\n",
       "      <th>area_type</th>\n",
       "      <th>location</th>\n",
       "      <th>size</th>\n",
       "      <th>total_sqft</th>\n",
       "      <th>bath</th>\n",
       "      <th>balcony</th>\n",
       "      <th>price</th>\n",
       "    </tr>\n",
       "  </thead>\n",
       "  <tbody>\n",
       "    <tr>\n",
       "      <th>0</th>\n",
       "      <td>Super built-up  Area</td>\n",
       "      <td>Electronic City Phase II</td>\n",
       "      <td>2 BHK</td>\n",
       "      <td>1056</td>\n",
       "      <td>2.0</td>\n",
       "      <td>1.0</td>\n",
       "      <td>39.07</td>\n",
       "    </tr>\n",
       "    <tr>\n",
       "      <th>1</th>\n",
       "      <td>Plot  Area</td>\n",
       "      <td>Chikka Tirupathi</td>\n",
       "      <td>4 Bedroom</td>\n",
       "      <td>2600</td>\n",
       "      <td>5.0</td>\n",
       "      <td>3.0</td>\n",
       "      <td>120.00</td>\n",
       "    </tr>\n",
       "    <tr>\n",
       "      <th>2</th>\n",
       "      <td>Built-up  Area</td>\n",
       "      <td>Uttarahalli</td>\n",
       "      <td>3 BHK</td>\n",
       "      <td>1440</td>\n",
       "      <td>2.0</td>\n",
       "      <td>3.0</td>\n",
       "      <td>62.00</td>\n",
       "    </tr>\n",
       "    <tr>\n",
       "      <th>3</th>\n",
       "      <td>Super built-up  Area</td>\n",
       "      <td>Lingadheeranahalli</td>\n",
       "      <td>3 BHK</td>\n",
       "      <td>1521</td>\n",
       "      <td>3.0</td>\n",
       "      <td>1.0</td>\n",
       "      <td>95.00</td>\n",
       "    </tr>\n",
       "    <tr>\n",
       "      <th>4</th>\n",
       "      <td>Super built-up  Area</td>\n",
       "      <td>Kothanur</td>\n",
       "      <td>2 BHK</td>\n",
       "      <td>1200</td>\n",
       "      <td>2.0</td>\n",
       "      <td>1.0</td>\n",
       "      <td>51.00</td>\n",
       "    </tr>\n",
       "  </tbody>\n",
       "</table>\n",
       "</div>"
      ],
      "text/plain": [
       "              area_type                  location       size total_sqft  bath  \\\n",
       "0  Super built-up  Area  Electronic City Phase II      2 BHK       1056   2.0   \n",
       "1            Plot  Area          Chikka Tirupathi  4 Bedroom       2600   5.0   \n",
       "2        Built-up  Area               Uttarahalli      3 BHK       1440   2.0   \n",
       "3  Super built-up  Area        Lingadheeranahalli      3 BHK       1521   3.0   \n",
       "4  Super built-up  Area                  Kothanur      2 BHK       1200   2.0   \n",
       "\n",
       "   balcony   price  \n",
       "0      1.0   39.07  \n",
       "1      3.0  120.00  \n",
       "2      3.0   62.00  \n",
       "3      1.0   95.00  \n",
       "4      1.0   51.00  "
      ]
     },
     "execution_count": 10,
     "metadata": {},
     "output_type": "execute_result"
    }
   ],
   "source": [
    "#drop unnecessary features\n",
    "df = df.drop(['society','availability'],axis=1)\n",
    "df.head()"
   ]
  },
  {
   "cell_type": "code",
   "execution_count": 11,
   "id": "71379f0a",
   "metadata": {
    "execution": {
     "iopub.execute_input": "2023-03-18T14:23:06.603159Z",
     "iopub.status.busy": "2023-03-18T14:23:06.602395Z",
     "iopub.status.idle": "2023-03-18T14:23:06.608934Z",
     "shell.execute_reply": "2023-03-18T14:23:06.607782Z"
    },
    "papermill": {
     "duration": 0.029084,
     "end_time": "2023-03-18T14:23:06.611440",
     "exception": false,
     "start_time": "2023-03-18T14:23:06.582356",
     "status": "completed"
    },
    "scrolled": true,
    "tags": []
   },
   "outputs": [
    {
     "data": {
      "text/plain": [
       "(13320, 7)"
      ]
     },
     "execution_count": 11,
     "metadata": {},
     "output_type": "execute_result"
    }
   ],
   "source": [
    "#Shape of the dataset\n",
    "df.shape"
   ]
  },
  {
   "cell_type": "code",
   "execution_count": 12,
   "id": "64bf4edb",
   "metadata": {
    "execution": {
     "iopub.execute_input": "2023-03-18T14:23:06.652483Z",
     "iopub.status.busy": "2023-03-18T14:23:06.651830Z",
     "iopub.status.idle": "2023-03-18T14:23:06.668229Z",
     "shell.execute_reply": "2023-03-18T14:23:06.666897Z"
    },
    "papermill": {
     "duration": 0.03975,
     "end_time": "2023-03-18T14:23:06.670928",
     "exception": false,
     "start_time": "2023-03-18T14:23:06.631178",
     "status": "completed"
    },
    "scrolled": true,
    "tags": []
   },
   "outputs": [
    {
     "data": {
      "text/plain": [
       "area_type     0\n",
       "location      0\n",
       "size          0\n",
       "total_sqft    0\n",
       "bath          0\n",
       "balcony       0\n",
       "price         0\n",
       "dtype: int64"
      ]
     },
     "execution_count": 12,
     "metadata": {},
     "output_type": "execute_result"
    }
   ],
   "source": [
    "#droping missing values\n",
    "df=df.dropna()\n",
    "df.isnull().sum()"
   ]
  },
  {
   "cell_type": "code",
   "execution_count": 13,
   "id": "46562eb0",
   "metadata": {
    "execution": {
     "iopub.execute_input": "2023-03-18T14:23:06.710078Z",
     "iopub.status.busy": "2023-03-18T14:23:06.709684Z",
     "iopub.status.idle": "2023-03-18T14:23:06.717021Z",
     "shell.execute_reply": "2023-03-18T14:23:06.715652Z"
    },
    "papermill": {
     "duration": 0.030177,
     "end_time": "2023-03-18T14:23:06.719509",
     "exception": false,
     "start_time": "2023-03-18T14:23:06.689332",
     "status": "completed"
    },
    "tags": []
   },
   "outputs": [
    {
     "data": {
      "text/plain": [
       "(12710, 7)"
      ]
     },
     "execution_count": 13,
     "metadata": {},
     "output_type": "execute_result"
    }
   ],
   "source": [
    "#Shape after droping missing values\n",
    "df.shape"
   ]
  },
  {
   "cell_type": "code",
   "execution_count": 14,
   "id": "cfe6b9be",
   "metadata": {
    "execution": {
     "iopub.execute_input": "2023-03-18T14:23:06.758938Z",
     "iopub.status.busy": "2023-03-18T14:23:06.758528Z",
     "iopub.status.idle": "2023-03-18T14:23:06.768682Z",
     "shell.execute_reply": "2023-03-18T14:23:06.767329Z"
    },
    "papermill": {
     "duration": 0.033596,
     "end_time": "2023-03-18T14:23:06.771727",
     "exception": false,
     "start_time": "2023-03-18T14:23:06.738131",
     "status": "completed"
    },
    "scrolled": true,
    "tags": []
   },
   "outputs": [
    {
     "data": {
      "text/plain": [
       "array(['1056', '2600', '1440', ..., '1133 - 1384', '774', '4689'],\n",
       "      dtype=object)"
      ]
     },
     "execution_count": 14,
     "metadata": {},
     "output_type": "execute_result"
    }
   ],
   "source": [
    "df2=df.copy()\n",
    "#unique values in total_sqft feature\n",
    "df2.total_sqft.unique()"
   ]
  },
  {
   "cell_type": "markdown",
   "id": "1149f248",
   "metadata": {
    "papermill": {
     "duration": 0.018876,
     "end_time": "2023-03-18T14:23:06.810011",
     "exception": false,
     "start_time": "2023-03-18T14:23:06.791135",
     "status": "completed"
    },
    "tags": []
   },
   "source": [
    "As we can see here, there are some unstructured data here."
   ]
  },
  {
   "cell_type": "code",
   "execution_count": 15,
   "id": "e05982f2",
   "metadata": {
    "execution": {
     "iopub.execute_input": "2023-03-18T14:23:06.850078Z",
     "iopub.status.busy": "2023-03-18T14:23:06.849658Z",
     "iopub.status.idle": "2023-03-18T14:23:06.855487Z",
     "shell.execute_reply": "2023-03-18T14:23:06.853978Z"
    },
    "papermill": {
     "duration": 0.028685,
     "end_time": "2023-03-18T14:23:06.857916",
     "exception": false,
     "start_time": "2023-03-18T14:23:06.829231",
     "status": "completed"
    },
    "tags": []
   },
   "outputs": [],
   "source": [
    "#Extract all unstructured data\n",
    "def is_float(x):\n",
    "    try:\n",
    "        float(x) # converting a value into float\n",
    "    except:\n",
    "        return False # it will return unstructured data\n",
    "    return True"
   ]
  },
  {
   "cell_type": "code",
   "execution_count": 16,
   "id": "22804f00",
   "metadata": {
    "execution": {
     "iopub.execute_input": "2023-03-18T14:23:06.897393Z",
     "iopub.status.busy": "2023-03-18T14:23:06.897007Z",
     "iopub.status.idle": "2023-03-18T14:23:06.917705Z",
     "shell.execute_reply": "2023-03-18T14:23:06.916429Z"
    },
    "papermill": {
     "duration": 0.044049,
     "end_time": "2023-03-18T14:23:06.920739",
     "exception": false,
     "start_time": "2023-03-18T14:23:06.876690",
     "status": "completed"
    },
    "tags": []
   },
   "outputs": [
    {
     "data": {
      "text/html": [
       "<div>\n",
       "<style scoped>\n",
       "    .dataframe tbody tr th:only-of-type {\n",
       "        vertical-align: middle;\n",
       "    }\n",
       "\n",
       "    .dataframe tbody tr th {\n",
       "        vertical-align: top;\n",
       "    }\n",
       "\n",
       "    .dataframe thead th {\n",
       "        text-align: right;\n",
       "    }\n",
       "</style>\n",
       "<table border=\"1\" class=\"dataframe\">\n",
       "  <thead>\n",
       "    <tr style=\"text-align: right;\">\n",
       "      <th></th>\n",
       "      <th>area_type</th>\n",
       "      <th>location</th>\n",
       "      <th>size</th>\n",
       "      <th>total_sqft</th>\n",
       "      <th>bath</th>\n",
       "      <th>balcony</th>\n",
       "      <th>price</th>\n",
       "    </tr>\n",
       "  </thead>\n",
       "  <tbody>\n",
       "    <tr>\n",
       "      <th>30</th>\n",
       "      <td>Super built-up  Area</td>\n",
       "      <td>Yelahanka</td>\n",
       "      <td>4 BHK</td>\n",
       "      <td>2100 - 2850</td>\n",
       "      <td>4.0</td>\n",
       "      <td>0.0</td>\n",
       "      <td>186.000</td>\n",
       "    </tr>\n",
       "    <tr>\n",
       "      <th>122</th>\n",
       "      <td>Super built-up  Area</td>\n",
       "      <td>Hebbal</td>\n",
       "      <td>4 BHK</td>\n",
       "      <td>3067 - 8156</td>\n",
       "      <td>4.0</td>\n",
       "      <td>0.0</td>\n",
       "      <td>477.000</td>\n",
       "    </tr>\n",
       "    <tr>\n",
       "      <th>137</th>\n",
       "      <td>Super built-up  Area</td>\n",
       "      <td>8th Phase JP Nagar</td>\n",
       "      <td>2 BHK</td>\n",
       "      <td>1042 - 1105</td>\n",
       "      <td>2.0</td>\n",
       "      <td>0.0</td>\n",
       "      <td>54.005</td>\n",
       "    </tr>\n",
       "    <tr>\n",
       "      <th>165</th>\n",
       "      <td>Super built-up  Area</td>\n",
       "      <td>Sarjapur</td>\n",
       "      <td>2 BHK</td>\n",
       "      <td>1145 - 1340</td>\n",
       "      <td>2.0</td>\n",
       "      <td>0.0</td>\n",
       "      <td>43.490</td>\n",
       "    </tr>\n",
       "    <tr>\n",
       "      <th>188</th>\n",
       "      <td>Super built-up  Area</td>\n",
       "      <td>KR Puram</td>\n",
       "      <td>2 BHK</td>\n",
       "      <td>1015 - 1540</td>\n",
       "      <td>2.0</td>\n",
       "      <td>0.0</td>\n",
       "      <td>56.800</td>\n",
       "    </tr>\n",
       "  </tbody>\n",
       "</table>\n",
       "</div>"
      ],
      "text/plain": [
       "                area_type            location   size   total_sqft  bath  \\\n",
       "30   Super built-up  Area           Yelahanka  4 BHK  2100 - 2850   4.0   \n",
       "122  Super built-up  Area              Hebbal  4 BHK  3067 - 8156   4.0   \n",
       "137  Super built-up  Area  8th Phase JP Nagar  2 BHK  1042 - 1105   2.0   \n",
       "165  Super built-up  Area            Sarjapur  2 BHK  1145 - 1340   2.0   \n",
       "188  Super built-up  Area            KR Puram  2 BHK  1015 - 1540   2.0   \n",
       "\n",
       "     balcony    price  \n",
       "30       0.0  186.000  \n",
       "122      0.0  477.000  \n",
       "137      0.0   54.005  \n",
       "165      0.0   43.490  \n",
       "188      0.0   56.800  "
      ]
     },
     "execution_count": 16,
     "metadata": {},
     "output_type": "execute_result"
    }
   ],
   "source": [
    "#returns all the values with unstructed data\n",
    "#The negation operator in Python is not.\n",
    "#It reverse the truth value of its operand\n",
    "df2[~df2['total_sqft'].apply(is_float)].head()"
   ]
  },
  {
   "cell_type": "markdown",
   "id": "e9a8396b",
   "metadata": {
    "papermill": {
     "duration": 0.018649,
     "end_time": "2023-03-18T14:23:06.958808",
     "exception": false,
     "start_time": "2023-03-18T14:23:06.940159",
     "status": "completed"
    },
    "tags": []
   },
   "source": [
    "for range values(e.g., 2100 - 2850) in total_sqft we will take its average value."
   ]
  },
  {
   "cell_type": "code",
   "execution_count": 17,
   "id": "b5717e85",
   "metadata": {
    "execution": {
     "iopub.execute_input": "2023-03-18T14:23:06.999262Z",
     "iopub.status.busy": "2023-03-18T14:23:06.998841Z",
     "iopub.status.idle": "2023-03-18T14:23:07.005322Z",
     "shell.execute_reply": "2023-03-18T14:23:07.003706Z"
    },
    "papermill": {
     "duration": 0.029925,
     "end_time": "2023-03-18T14:23:07.007692",
     "exception": false,
     "start_time": "2023-03-18T14:23:06.977767",
     "status": "completed"
    },
    "tags": []
   },
   "outputs": [],
   "source": [
    "def convert_sqft_to_num(x):\n",
    "    tokens = x.split('-')\n",
    "    if len(tokens) == 2:\n",
    "        return (float(tokens[0]) + float(tokens[1]))/2\n",
    "    try:\n",
    "        return float(x)\n",
    "    except:\n",
    "        return None"
   ]
  },
  {
   "cell_type": "code",
   "execution_count": 18,
   "id": "a4e7112f",
   "metadata": {
    "execution": {
     "iopub.execute_input": "2023-03-18T14:23:07.048151Z",
     "iopub.status.busy": "2023-03-18T14:23:07.047754Z",
     "iopub.status.idle": "2023-03-18T14:23:07.074729Z",
     "shell.execute_reply": "2023-03-18T14:23:07.073658Z"
    },
    "papermill": {
     "duration": 0.050391,
     "end_time": "2023-03-18T14:23:07.077118",
     "exception": false,
     "start_time": "2023-03-18T14:23:07.026727",
     "status": "completed"
    },
    "scrolled": true,
    "tags": []
   },
   "outputs": [
    {
     "data": {
      "text/html": [
       "<div>\n",
       "<style scoped>\n",
       "    .dataframe tbody tr th:only-of-type {\n",
       "        vertical-align: middle;\n",
       "    }\n",
       "\n",
       "    .dataframe tbody tr th {\n",
       "        vertical-align: top;\n",
       "    }\n",
       "\n",
       "    .dataframe thead th {\n",
       "        text-align: right;\n",
       "    }\n",
       "</style>\n",
       "<table border=\"1\" class=\"dataframe\">\n",
       "  <thead>\n",
       "    <tr style=\"text-align: right;\">\n",
       "      <th></th>\n",
       "      <th>area_type</th>\n",
       "      <th>location</th>\n",
       "      <th>size</th>\n",
       "      <th>total_sqft</th>\n",
       "      <th>bath</th>\n",
       "      <th>balcony</th>\n",
       "      <th>price</th>\n",
       "    </tr>\n",
       "  </thead>\n",
       "  <tbody>\n",
       "    <tr>\n",
       "      <th>0</th>\n",
       "      <td>Super built-up  Area</td>\n",
       "      <td>Electronic City Phase II</td>\n",
       "      <td>2 BHK</td>\n",
       "      <td>1056.0</td>\n",
       "      <td>2.0</td>\n",
       "      <td>1.0</td>\n",
       "      <td>39.07</td>\n",
       "    </tr>\n",
       "    <tr>\n",
       "      <th>1</th>\n",
       "      <td>Plot  Area</td>\n",
       "      <td>Chikka Tirupathi</td>\n",
       "      <td>4 Bedroom</td>\n",
       "      <td>2600.0</td>\n",
       "      <td>5.0</td>\n",
       "      <td>3.0</td>\n",
       "      <td>120.00</td>\n",
       "    </tr>\n",
       "    <tr>\n",
       "      <th>2</th>\n",
       "      <td>Built-up  Area</td>\n",
       "      <td>Uttarahalli</td>\n",
       "      <td>3 BHK</td>\n",
       "      <td>1440.0</td>\n",
       "      <td>2.0</td>\n",
       "      <td>3.0</td>\n",
       "      <td>62.00</td>\n",
       "    </tr>\n",
       "    <tr>\n",
       "      <th>3</th>\n",
       "      <td>Super built-up  Area</td>\n",
       "      <td>Lingadheeranahalli</td>\n",
       "      <td>3 BHK</td>\n",
       "      <td>1521.0</td>\n",
       "      <td>3.0</td>\n",
       "      <td>1.0</td>\n",
       "      <td>95.00</td>\n",
       "    </tr>\n",
       "    <tr>\n",
       "      <th>4</th>\n",
       "      <td>Super built-up  Area</td>\n",
       "      <td>Kothanur</td>\n",
       "      <td>2 BHK</td>\n",
       "      <td>1200.0</td>\n",
       "      <td>2.0</td>\n",
       "      <td>1.0</td>\n",
       "      <td>51.00</td>\n",
       "    </tr>\n",
       "  </tbody>\n",
       "</table>\n",
       "</div>"
      ],
      "text/plain": [
       "              area_type                  location       size  total_sqft  \\\n",
       "0  Super built-up  Area  Electronic City Phase II      2 BHK      1056.0   \n",
       "1            Plot  Area          Chikka Tirupathi  4 Bedroom      2600.0   \n",
       "2        Built-up  Area               Uttarahalli      3 BHK      1440.0   \n",
       "3  Super built-up  Area        Lingadheeranahalli      3 BHK      1521.0   \n",
       "4  Super built-up  Area                  Kothanur      2 BHK      1200.0   \n",
       "\n",
       "   bath  balcony   price  \n",
       "0   2.0      1.0   39.07  \n",
       "1   5.0      3.0  120.00  \n",
       "2   2.0      3.0   62.00  \n",
       "3   3.0      1.0   95.00  \n",
       "4   2.0      1.0   51.00  "
      ]
     },
     "execution_count": 18,
     "metadata": {},
     "output_type": "execute_result"
    }
   ],
   "source": [
    "df3=df2.copy()\n",
    "df3['total_sqft'] = df3['total_sqft'].apply(convert_sqft_to_num)\n",
    "df3=df3[df3.total_sqft.notnull()]\n",
    "df3.head()"
   ]
  },
  {
   "cell_type": "code",
   "execution_count": 19,
   "id": "abc40304",
   "metadata": {
    "execution": {
     "iopub.execute_input": "2023-03-18T14:23:19.612634Z",
     "iopub.status.busy": "2023-03-18T14:23:19.611812Z",
     "iopub.status.idle": "2023-03-18T14:23:19.618263Z",
     "shell.execute_reply": "2023-03-18T14:23:19.617272Z"
    },
    "papermill": {
     "duration": 0.050898,
     "end_time": "2023-03-18T14:23:19.620585",
     "exception": false,
     "start_time": "2023-03-18T14:23:19.569687",
     "status": "completed"
    },
    "tags": []
   },
   "outputs": [
    {
     "data": {
      "text/plain": [
       "(12668, 7)"
      ]
     },
     "execution_count": 19,
     "metadata": {},
     "output_type": "execute_result"
    }
   ],
   "source": [
    "df3.shape"
   ]
  },
  {
   "cell_type": "markdown",
   "id": "e0927aac",
   "metadata": {
    "papermill": {
     "duration": 0.040105,
     "end_time": "2023-03-18T14:23:19.700761",
     "exception": false,
     "start_time": "2023-03-18T14:23:19.660656",
     "status": "completed"
    },
    "tags": []
   },
   "source": [
    "# Feature Engineering"
   ]
  },
  {
   "cell_type": "code",
   "execution_count": 20,
   "id": "895f7468",
   "metadata": {
    "execution": {
     "iopub.execute_input": "2023-03-18T14:23:19.783833Z",
     "iopub.status.busy": "2023-03-18T14:23:19.782860Z",
     "iopub.status.idle": "2023-03-18T14:23:19.792868Z",
     "shell.execute_reply": "2023-03-18T14:23:19.791554Z"
    },
    "papermill": {
     "duration": 0.054702,
     "end_time": "2023-03-18T14:23:19.795535",
     "exception": false,
     "start_time": "2023-03-18T14:23:19.740833",
     "status": "completed"
    },
    "scrolled": true,
    "tags": []
   },
   "outputs": [
    {
     "data": {
      "text/plain": [
       "array(['2 BHK', '4 Bedroom', '3 BHK', '3 Bedroom', '1 BHK', '1 RK',\n",
       "       '4 BHK', '1 Bedroom', '2 Bedroom', '6 Bedroom', '8 Bedroom',\n",
       "       '7 Bedroom', '5 BHK', '7 BHK', '6 BHK', '5 Bedroom', '11 BHK',\n",
       "       '9 BHK', '9 Bedroom', '27 BHK', '11 Bedroom', '43 Bedroom',\n",
       "       '14 BHK', '8 BHK', '12 Bedroom', '10 Bedroom', '13 BHK'],\n",
       "      dtype=object)"
      ]
     },
     "execution_count": 20,
     "metadata": {},
     "output_type": "execute_result"
    }
   ],
   "source": [
    "#Unique values in size column\n",
    "df3['size'].unique()"
   ]
  },
  {
   "cell_type": "markdown",
   "id": "a7210c1a",
   "metadata": {
    "papermill": {
     "duration": 0.040464,
     "end_time": "2023-03-18T14:23:19.876455",
     "exception": false,
     "start_time": "2023-03-18T14:23:19.835991",
     "status": "completed"
    },
    "tags": []
   },
   "source": [
    "As you can see here, BHK (The term BHK is the acronym for 'Bedroom, Hall, Kitchen') and bedroom somewhat refer to same thing so, we will make a new column which will have only number."
   ]
  },
  {
   "cell_type": "code",
   "execution_count": 21,
   "id": "477a362e",
   "metadata": {
    "execution": {
     "iopub.execute_input": "2023-03-18T14:23:19.960425Z",
     "iopub.status.busy": "2023-03-18T14:23:19.960049Z",
     "iopub.status.idle": "2023-03-18T14:23:19.988057Z",
     "shell.execute_reply": "2023-03-18T14:23:19.986561Z"
    },
    "papermill": {
     "duration": 0.072928,
     "end_time": "2023-03-18T14:23:19.990751",
     "exception": false,
     "start_time": "2023-03-18T14:23:19.917823",
     "status": "completed"
    },
    "tags": []
   },
   "outputs": [
    {
     "data": {
      "text/html": [
       "<div>\n",
       "<style scoped>\n",
       "    .dataframe tbody tr th:only-of-type {\n",
       "        vertical-align: middle;\n",
       "    }\n",
       "\n",
       "    .dataframe tbody tr th {\n",
       "        vertical-align: top;\n",
       "    }\n",
       "\n",
       "    .dataframe thead th {\n",
       "        text-align: right;\n",
       "    }\n",
       "</style>\n",
       "<table border=\"1\" class=\"dataframe\">\n",
       "  <thead>\n",
       "    <tr style=\"text-align: right;\">\n",
       "      <th></th>\n",
       "      <th>area_type</th>\n",
       "      <th>location</th>\n",
       "      <th>size</th>\n",
       "      <th>total_sqft</th>\n",
       "      <th>bath</th>\n",
       "      <th>balcony</th>\n",
       "      <th>price</th>\n",
       "      <th>bhk</th>\n",
       "    </tr>\n",
       "  </thead>\n",
       "  <tbody>\n",
       "    <tr>\n",
       "      <th>0</th>\n",
       "      <td>Super built-up  Area</td>\n",
       "      <td>Electronic City Phase II</td>\n",
       "      <td>2 BHK</td>\n",
       "      <td>1056.0</td>\n",
       "      <td>2.0</td>\n",
       "      <td>1.0</td>\n",
       "      <td>39.07</td>\n",
       "      <td>2</td>\n",
       "    </tr>\n",
       "    <tr>\n",
       "      <th>1</th>\n",
       "      <td>Plot  Area</td>\n",
       "      <td>Chikka Tirupathi</td>\n",
       "      <td>4 Bedroom</td>\n",
       "      <td>2600.0</td>\n",
       "      <td>5.0</td>\n",
       "      <td>3.0</td>\n",
       "      <td>120.00</td>\n",
       "      <td>4</td>\n",
       "    </tr>\n",
       "    <tr>\n",
       "      <th>2</th>\n",
       "      <td>Built-up  Area</td>\n",
       "      <td>Uttarahalli</td>\n",
       "      <td>3 BHK</td>\n",
       "      <td>1440.0</td>\n",
       "      <td>2.0</td>\n",
       "      <td>3.0</td>\n",
       "      <td>62.00</td>\n",
       "      <td>3</td>\n",
       "    </tr>\n",
       "    <tr>\n",
       "      <th>3</th>\n",
       "      <td>Super built-up  Area</td>\n",
       "      <td>Lingadheeranahalli</td>\n",
       "      <td>3 BHK</td>\n",
       "      <td>1521.0</td>\n",
       "      <td>3.0</td>\n",
       "      <td>1.0</td>\n",
       "      <td>95.00</td>\n",
       "      <td>3</td>\n",
       "    </tr>\n",
       "    <tr>\n",
       "      <th>4</th>\n",
       "      <td>Super built-up  Area</td>\n",
       "      <td>Kothanur</td>\n",
       "      <td>2 BHK</td>\n",
       "      <td>1200.0</td>\n",
       "      <td>2.0</td>\n",
       "      <td>1.0</td>\n",
       "      <td>51.00</td>\n",
       "      <td>2</td>\n",
       "    </tr>\n",
       "  </tbody>\n",
       "</table>\n",
       "</div>"
      ],
      "text/plain": [
       "              area_type                  location       size  total_sqft  \\\n",
       "0  Super built-up  Area  Electronic City Phase II      2 BHK      1056.0   \n",
       "1            Plot  Area          Chikka Tirupathi  4 Bedroom      2600.0   \n",
       "2        Built-up  Area               Uttarahalli      3 BHK      1440.0   \n",
       "3  Super built-up  Area        Lingadheeranahalli      3 BHK      1521.0   \n",
       "4  Super built-up  Area                  Kothanur      2 BHK      1200.0   \n",
       "\n",
       "   bath  balcony   price  bhk  \n",
       "0   2.0      1.0   39.07    2  \n",
       "1   5.0      3.0  120.00    4  \n",
       "2   2.0      3.0   62.00    3  \n",
       "3   3.0      1.0   95.00    3  \n",
       "4   2.0      1.0   51.00    2  "
      ]
     },
     "execution_count": 21,
     "metadata": {},
     "output_type": "execute_result"
    }
   ],
   "source": [
    "#Spliting a string values in the specfic column\n",
    "df3['bhk'] = df['size'].apply(lambda x: int(x.split(' ')[0]))\n",
    "df3.head()"
   ]
  },
  {
   "cell_type": "code",
   "execution_count": 22,
   "id": "e759eec2",
   "metadata": {
    "execution": {
     "iopub.execute_input": "2023-03-18T14:23:20.074286Z",
     "iopub.status.busy": "2023-03-18T14:23:20.073554Z",
     "iopub.status.idle": "2023-03-18T14:23:20.084348Z",
     "shell.execute_reply": "2023-03-18T14:23:20.083204Z"
    },
    "papermill": {
     "duration": 0.055714,
     "end_time": "2023-03-18T14:23:20.086830",
     "exception": false,
     "start_time": "2023-03-18T14:23:20.031116",
     "status": "completed"
    },
    "tags": []
   },
   "outputs": [
    {
     "data": {
      "text/plain": [
       "(12668, 8)"
      ]
     },
     "execution_count": 22,
     "metadata": {},
     "output_type": "execute_result"
    }
   ],
   "source": [
    "#convert datatype of bath from float to int\n",
    "df3=df3.astype({'bath':'int'})\n",
    "df3.shape"
   ]
  },
  {
   "cell_type": "code",
   "execution_count": 23,
   "id": "849c2a44",
   "metadata": {
    "execution": {
     "iopub.execute_input": "2023-03-18T14:23:20.170876Z",
     "iopub.status.busy": "2023-03-18T14:23:20.170427Z",
     "iopub.status.idle": "2023-03-18T14:23:20.186681Z",
     "shell.execute_reply": "2023-03-18T14:23:20.185379Z"
    },
    "papermill": {
     "duration": 0.060819,
     "end_time": "2023-03-18T14:23:20.189000",
     "exception": false,
     "start_time": "2023-03-18T14:23:20.128181",
     "status": "completed"
    },
    "tags": []
   },
   "outputs": [
    {
     "data": {
      "text/html": [
       "<div>\n",
       "<style scoped>\n",
       "    .dataframe tbody tr th:only-of-type {\n",
       "        vertical-align: middle;\n",
       "    }\n",
       "\n",
       "    .dataframe tbody tr th {\n",
       "        vertical-align: top;\n",
       "    }\n",
       "\n",
       "    .dataframe thead th {\n",
       "        text-align: right;\n",
       "    }\n",
       "</style>\n",
       "<table border=\"1\" class=\"dataframe\">\n",
       "  <thead>\n",
       "    <tr style=\"text-align: right;\">\n",
       "      <th></th>\n",
       "      <th>area_type</th>\n",
       "      <th>location</th>\n",
       "      <th>size</th>\n",
       "      <th>total_sqft</th>\n",
       "      <th>bath</th>\n",
       "      <th>balcony</th>\n",
       "      <th>price</th>\n",
       "      <th>bhk</th>\n",
       "      <th>price_per_sqft</th>\n",
       "    </tr>\n",
       "  </thead>\n",
       "  <tbody>\n",
       "    <tr>\n",
       "      <th>0</th>\n",
       "      <td>Super built-up  Area</td>\n",
       "      <td>Electronic City Phase II</td>\n",
       "      <td>2 BHK</td>\n",
       "      <td>1056.0</td>\n",
       "      <td>2</td>\n",
       "      <td>1.0</td>\n",
       "      <td>39.07</td>\n",
       "      <td>2</td>\n",
       "      <td>3699.810606</td>\n",
       "    </tr>\n",
       "    <tr>\n",
       "      <th>1</th>\n",
       "      <td>Plot  Area</td>\n",
       "      <td>Chikka Tirupathi</td>\n",
       "      <td>4 Bedroom</td>\n",
       "      <td>2600.0</td>\n",
       "      <td>5</td>\n",
       "      <td>3.0</td>\n",
       "      <td>120.00</td>\n",
       "      <td>4</td>\n",
       "      <td>4615.384615</td>\n",
       "    </tr>\n",
       "    <tr>\n",
       "      <th>2</th>\n",
       "      <td>Built-up  Area</td>\n",
       "      <td>Uttarahalli</td>\n",
       "      <td>3 BHK</td>\n",
       "      <td>1440.0</td>\n",
       "      <td>2</td>\n",
       "      <td>3.0</td>\n",
       "      <td>62.00</td>\n",
       "      <td>3</td>\n",
       "      <td>4305.555556</td>\n",
       "    </tr>\n",
       "    <tr>\n",
       "      <th>3</th>\n",
       "      <td>Super built-up  Area</td>\n",
       "      <td>Lingadheeranahalli</td>\n",
       "      <td>3 BHK</td>\n",
       "      <td>1521.0</td>\n",
       "      <td>3</td>\n",
       "      <td>1.0</td>\n",
       "      <td>95.00</td>\n",
       "      <td>3</td>\n",
       "      <td>6245.890861</td>\n",
       "    </tr>\n",
       "    <tr>\n",
       "      <th>4</th>\n",
       "      <td>Super built-up  Area</td>\n",
       "      <td>Kothanur</td>\n",
       "      <td>2 BHK</td>\n",
       "      <td>1200.0</td>\n",
       "      <td>2</td>\n",
       "      <td>1.0</td>\n",
       "      <td>51.00</td>\n",
       "      <td>2</td>\n",
       "      <td>4250.000000</td>\n",
       "    </tr>\n",
       "  </tbody>\n",
       "</table>\n",
       "</div>"
      ],
      "text/plain": [
       "              area_type                  location       size  total_sqft  \\\n",
       "0  Super built-up  Area  Electronic City Phase II      2 BHK      1056.0   \n",
       "1            Plot  Area          Chikka Tirupathi  4 Bedroom      2600.0   \n",
       "2        Built-up  Area               Uttarahalli      3 BHK      1440.0   \n",
       "3  Super built-up  Area        Lingadheeranahalli      3 BHK      1521.0   \n",
       "4  Super built-up  Area                  Kothanur      2 BHK      1200.0   \n",
       "\n",
       "   bath  balcony   price  bhk  price_per_sqft  \n",
       "0     2      1.0   39.07    2     3699.810606  \n",
       "1     5      3.0  120.00    4     4615.384615  \n",
       "2     2      3.0   62.00    3     4305.555556  \n",
       "3     3      1.0   95.00    3     6245.890861  \n",
       "4     2      1.0   51.00    2     4250.000000  "
      ]
     },
     "execution_count": 23,
     "metadata": {},
     "output_type": "execute_result"
    }
   ],
   "source": [
    "df3['price_per_sqft'] = df3['price']*100000/df3['total_sqft']\n",
    "df3.head()"
   ]
  },
  {
   "cell_type": "markdown",
   "id": "6fb1ec08",
   "metadata": {
    "papermill": {
     "duration": 0.04026,
     "end_time": "2023-03-18T14:23:20.270158",
     "exception": false,
     "start_time": "2023-03-18T14:23:20.229898",
     "status": "completed"
    },
    "tags": []
   },
   "source": [
    "We know that in real estate market <b>price per square feet</b> is very important, but we didn't have this in our dataset so, we have to create this column <i>(for outlier detection)</i>.<br>\n",
    "<i>(we multiplied 100000 in above equation because the price is in lakh rupess.)</i>"
   ]
  },
  {
   "cell_type": "code",
   "execution_count": 24,
   "id": "b7b5d19e",
   "metadata": {
    "execution": {
     "iopub.execute_input": "2023-03-18T14:23:20.359051Z",
     "iopub.status.busy": "2023-03-18T14:23:20.358347Z",
     "iopub.status.idle": "2023-03-18T14:23:20.367111Z",
     "shell.execute_reply": "2023-03-18T14:23:20.366091Z"
    },
    "papermill": {
     "duration": 0.053198,
     "end_time": "2023-03-18T14:23:20.369340",
     "exception": false,
     "start_time": "2023-03-18T14:23:20.316142",
     "status": "completed"
    },
    "tags": []
   },
   "outputs": [
    {
     "data": {
      "text/plain": [
       "1259"
      ]
     },
     "execution_count": 24,
     "metadata": {},
     "output_type": "execute_result"
    }
   ],
   "source": [
    "# total number of unique values in column location\n",
    "df3['location'].nunique()"
   ]
  },
  {
   "cell_type": "markdown",
   "id": "4c8e25bf",
   "metadata": {
    "papermill": {
     "duration": 0.04035,
     "end_time": "2023-03-18T14:23:20.450282",
     "exception": false,
     "start_time": "2023-03-18T14:23:20.409932",
     "status": "completed"
    },
    "tags": []
   },
   "source": [
    "As we can see here, in the column location there are too many unique categorical values which will create a dimensionality problem in future so, we need to take most frequent variables and other remaning categories will be transformed into completely new category that can be named as 'others'."
   ]
  },
  {
   "cell_type": "code",
   "execution_count": 25,
   "id": "79dc802d",
   "metadata": {
    "execution": {
     "iopub.execute_input": "2023-03-18T14:23:20.535438Z",
     "iopub.status.busy": "2023-03-18T14:23:20.534800Z",
     "iopub.status.idle": "2023-03-18T14:23:20.543343Z",
     "shell.execute_reply": "2023-03-18T14:23:20.542529Z"
    },
    "papermill": {
     "duration": 0.054112,
     "end_time": "2023-03-18T14:23:20.545644",
     "exception": false,
     "start_time": "2023-03-18T14:23:20.491532",
     "status": "completed"
    },
    "tags": []
   },
   "outputs": [],
   "source": [
    "#to remove extra spaces \n",
    "df3['location']=df3['location'].apply(lambda x:x.strip())"
   ]
  },
  {
   "cell_type": "code",
   "execution_count": 26,
   "id": "1badc62a",
   "metadata": {
    "execution": {
     "iopub.execute_input": "2023-03-18T14:23:20.636126Z",
     "iopub.status.busy": "2023-03-18T14:23:20.635317Z",
     "iopub.status.idle": "2023-03-18T14:23:20.648964Z",
     "shell.execute_reply": "2023-03-18T14:23:20.646836Z"
    },
    "papermill": {
     "duration": 0.064462,
     "end_time": "2023-03-18T14:23:20.652642",
     "exception": false,
     "start_time": "2023-03-18T14:23:20.588180",
     "status": "completed"
    },
    "tags": []
   },
   "outputs": [
    {
     "data": {
      "text/plain": [
       "Whitefield           514\n",
       "Sarjapur  Road       372\n",
       "Electronic City      302\n",
       "Kanakpura Road       259\n",
       "Thanisandra          233\n",
       "                    ... \n",
       "Subbannaiah Palya      1\n",
       "whitefiled             1\n",
       "Medi Agrahara          1\n",
       "Sadduguntepalya        1\n",
       "Abshot Layout          1\n",
       "Name: location, Length: 1248, dtype: int64"
      ]
     },
     "execution_count": 26,
     "metadata": {},
     "output_type": "execute_result"
    }
   ],
   "source": [
    "location_stats = df3['location'].value_counts()\n",
    "location_stats"
   ]
  },
  {
   "cell_type": "code",
   "execution_count": 27,
   "id": "7378248c",
   "metadata": {
    "execution": {
     "iopub.execute_input": "2023-03-18T14:23:20.740069Z",
     "iopub.status.busy": "2023-03-18T14:23:20.739651Z",
     "iopub.status.idle": "2023-03-18T14:23:20.747527Z",
     "shell.execute_reply": "2023-03-18T14:23:20.746294Z"
    },
    "papermill": {
     "duration": 0.053778,
     "end_time": "2023-03-18T14:23:20.749959",
     "exception": false,
     "start_time": "2023-03-18T14:23:20.696181",
     "status": "completed"
    },
    "tags": []
   },
   "outputs": [
    {
     "data": {
      "text/plain": [
       "1013"
      ]
     },
     "execution_count": 27,
     "metadata": {},
     "output_type": "execute_result"
    }
   ],
   "source": [
    "#location_stats that have less than 10 values\n",
    "len(location_stats[location_stats<=10])"
   ]
  },
  {
   "cell_type": "code",
   "execution_count": 28,
   "id": "baaa4aed",
   "metadata": {
    "execution": {
     "iopub.execute_input": "2023-03-18T14:23:20.834710Z",
     "iopub.status.busy": "2023-03-18T14:23:20.833831Z",
     "iopub.status.idle": "2023-03-18T14:23:20.844252Z",
     "shell.execute_reply": "2023-03-18T14:23:20.842947Z"
    },
    "papermill": {
     "duration": 0.056965,
     "end_time": "2023-03-18T14:23:20.846848",
     "exception": false,
     "start_time": "2023-03-18T14:23:20.789883",
     "status": "completed"
    },
    "tags": []
   },
   "outputs": [
    {
     "data": {
      "text/plain": [
       "1st Block Koramangala    10\n",
       "Gunjur Palya             10\n",
       "Kalkere                  10\n",
       "Nagappa Reddy Layout     10\n",
       "Dairy Circle             10\n",
       "                         ..\n",
       "Subbannaiah Palya         1\n",
       "whitefiled                1\n",
       "Medi Agrahara             1\n",
       "Sadduguntepalya           1\n",
       "Abshot Layout             1\n",
       "Name: location, Length: 1013, dtype: int64"
      ]
     },
     "execution_count": 28,
     "metadata": {},
     "output_type": "execute_result"
    }
   ],
   "source": [
    "#All categories in location_stats that have less than 10 values\n",
    "location_stats_lessthan_10=location_stats[location_stats<=10]\n",
    "location_stats_lessthan_10"
   ]
  },
  {
   "cell_type": "code",
   "execution_count": 29,
   "id": "dceb3fca",
   "metadata": {
    "execution": {
     "iopub.execute_input": "2023-03-18T14:23:20.933728Z",
     "iopub.status.busy": "2023-03-18T14:23:20.932938Z",
     "iopub.status.idle": "2023-03-18T14:23:20.954799Z",
     "shell.execute_reply": "2023-03-18T14:23:20.953163Z"
    },
    "papermill": {
     "duration": 0.069373,
     "end_time": "2023-03-18T14:23:20.957686",
     "exception": false,
     "start_time": "2023-03-18T14:23:20.888313",
     "status": "completed"
    },
    "tags": []
   },
   "outputs": [],
   "source": [
    "# Categories all the values that have less than 10 values in location column\n",
    "df3['location']=df3.location.apply(lambda x:'Other' if x in location_stats_lessthan_10 else x)"
   ]
  },
  {
   "cell_type": "code",
   "execution_count": 30,
   "id": "9f647119",
   "metadata": {
    "execution": {
     "iopub.execute_input": "2023-03-18T14:23:21.049952Z",
     "iopub.status.busy": "2023-03-18T14:23:21.049107Z",
     "iopub.status.idle": "2023-03-18T14:23:21.058090Z",
     "shell.execute_reply": "2023-03-18T14:23:21.057069Z"
    },
    "papermill": {
     "duration": 0.060607,
     "end_time": "2023-03-18T14:23:21.060446",
     "exception": false,
     "start_time": "2023-03-18T14:23:20.999839",
     "status": "completed"
    },
    "tags": []
   },
   "outputs": [
    {
     "data": {
      "text/plain": [
       "236"
      ]
     },
     "execution_count": 30,
     "metadata": {},
     "output_type": "execute_result"
    }
   ],
   "source": [
    "#Number of unique values in location column\n",
    "df3['location'].nunique()"
   ]
  },
  {
   "cell_type": "markdown",
   "id": "a63f43a7",
   "metadata": {
    "papermill": {
     "duration": 0.044181,
     "end_time": "2023-03-18T14:23:21.147324",
     "exception": false,
     "start_time": "2023-03-18T14:23:21.103143",
     "status": "completed"
    },
    "tags": []
   },
   "source": [
    "# Outlier"
   ]
  },
  {
   "cell_type": "markdown",
   "id": "1776987f",
   "metadata": {
    "papermill": {
     "duration": 0.041744,
     "end_time": "2023-03-18T14:23:21.238721",
     "exception": false,
     "start_time": "2023-03-18T14:23:21.196977",
     "status": "completed"
    },
    "tags": []
   },
   "source": [
    "The average size of a master bedroom is 14 x 16 feet. It may be bigger than that but 300 square footage is a minimum."
   ]
  },
  {
   "cell_type": "code",
   "execution_count": 31,
   "id": "ecee7de6",
   "metadata": {
    "execution": {
     "iopub.execute_input": "2023-03-18T14:23:21.324246Z",
     "iopub.status.busy": "2023-03-18T14:23:21.323449Z",
     "iopub.status.idle": "2023-03-18T14:23:21.339429Z",
     "shell.execute_reply": "2023-03-18T14:23:21.338431Z"
    },
    "papermill": {
     "duration": 0.061719,
     "end_time": "2023-03-18T14:23:21.341809",
     "exception": false,
     "start_time": "2023-03-18T14:23:21.280090",
     "status": "completed"
    },
    "tags": []
   },
   "outputs": [
    {
     "data": {
      "text/html": [
       "<div>\n",
       "<style scoped>\n",
       "    .dataframe tbody tr th:only-of-type {\n",
       "        vertical-align: middle;\n",
       "    }\n",
       "\n",
       "    .dataframe tbody tr th {\n",
       "        vertical-align: top;\n",
       "    }\n",
       "\n",
       "    .dataframe thead th {\n",
       "        text-align: right;\n",
       "    }\n",
       "</style>\n",
       "<table border=\"1\" class=\"dataframe\">\n",
       "  <thead>\n",
       "    <tr style=\"text-align: right;\">\n",
       "      <th></th>\n",
       "      <th>area_type</th>\n",
       "      <th>location</th>\n",
       "      <th>size</th>\n",
       "      <th>total_sqft</th>\n",
       "      <th>bath</th>\n",
       "      <th>balcony</th>\n",
       "      <th>price</th>\n",
       "      <th>bhk</th>\n",
       "      <th>price_per_sqft</th>\n",
       "    </tr>\n",
       "  </thead>\n",
       "  <tbody>\n",
       "    <tr>\n",
       "      <th>58</th>\n",
       "      <td>Plot  Area</td>\n",
       "      <td>Murugeshpalya</td>\n",
       "      <td>6 Bedroom</td>\n",
       "      <td>1407.0</td>\n",
       "      <td>4</td>\n",
       "      <td>1.0</td>\n",
       "      <td>150.0</td>\n",
       "      <td>6</td>\n",
       "      <td>10660.980810</td>\n",
       "    </tr>\n",
       "    <tr>\n",
       "      <th>68</th>\n",
       "      <td>Plot  Area</td>\n",
       "      <td>Devarachikkanahalli</td>\n",
       "      <td>8 Bedroom</td>\n",
       "      <td>1350.0</td>\n",
       "      <td>7</td>\n",
       "      <td>0.0</td>\n",
       "      <td>85.0</td>\n",
       "      <td>8</td>\n",
       "      <td>6296.296296</td>\n",
       "    </tr>\n",
       "    <tr>\n",
       "      <th>70</th>\n",
       "      <td>Plot  Area</td>\n",
       "      <td>Other</td>\n",
       "      <td>3 Bedroom</td>\n",
       "      <td>500.0</td>\n",
       "      <td>3</td>\n",
       "      <td>2.0</td>\n",
       "      <td>100.0</td>\n",
       "      <td>3</td>\n",
       "      <td>20000.000000</td>\n",
       "    </tr>\n",
       "    <tr>\n",
       "      <th>78</th>\n",
       "      <td>Built-up  Area</td>\n",
       "      <td>Kaval Byrasandra</td>\n",
       "      <td>2 BHK</td>\n",
       "      <td>460.0</td>\n",
       "      <td>1</td>\n",
       "      <td>0.0</td>\n",
       "      <td>22.0</td>\n",
       "      <td>2</td>\n",
       "      <td>4782.608696</td>\n",
       "    </tr>\n",
       "    <tr>\n",
       "      <th>89</th>\n",
       "      <td>Plot  Area</td>\n",
       "      <td>Rajaji Nagar</td>\n",
       "      <td>6 Bedroom</td>\n",
       "      <td>710.0</td>\n",
       "      <td>6</td>\n",
       "      <td>3.0</td>\n",
       "      <td>160.0</td>\n",
       "      <td>6</td>\n",
       "      <td>22535.211268</td>\n",
       "    </tr>\n",
       "  </tbody>\n",
       "</table>\n",
       "</div>"
      ],
      "text/plain": [
       "         area_type             location       size  total_sqft  bath  balcony  \\\n",
       "58      Plot  Area        Murugeshpalya  6 Bedroom      1407.0     4      1.0   \n",
       "68      Plot  Area  Devarachikkanahalli  8 Bedroom      1350.0     7      0.0   \n",
       "70      Plot  Area                Other  3 Bedroom       500.0     3      2.0   \n",
       "78  Built-up  Area     Kaval Byrasandra      2 BHK       460.0     1      0.0   \n",
       "89      Plot  Area         Rajaji Nagar  6 Bedroom       710.0     6      3.0   \n",
       "\n",
       "    price  bhk  price_per_sqft  \n",
       "58  150.0    6    10660.980810  \n",
       "68   85.0    8     6296.296296  \n",
       "70  100.0    3    20000.000000  \n",
       "78   22.0    2     4782.608696  \n",
       "89  160.0    6    22535.211268  "
      ]
     },
     "execution_count": 31,
     "metadata": {},
     "output_type": "execute_result"
    }
   ],
   "source": [
    "#outliers\n",
    "df3[df3.total_sqft/df3.bhk<300].head()"
   ]
  },
  {
   "cell_type": "code",
   "execution_count": 32,
   "id": "5c32e18d",
   "metadata": {
    "execution": {
     "iopub.execute_input": "2023-03-18T14:23:21.427808Z",
     "iopub.status.busy": "2023-03-18T14:23:21.426928Z",
     "iopub.status.idle": "2023-03-18T14:23:21.433173Z",
     "shell.execute_reply": "2023-03-18T14:23:21.432281Z"
    },
    "papermill": {
     "duration": 0.051814,
     "end_time": "2023-03-18T14:23:21.435536",
     "exception": false,
     "start_time": "2023-03-18T14:23:21.383722",
     "status": "completed"
    },
    "tags": []
   },
   "outputs": [
    {
     "data": {
      "text/plain": [
       "(12710, 7)"
      ]
     },
     "execution_count": 32,
     "metadata": {},
     "output_type": "execute_result"
    }
   ],
   "source": [
    "df.shape"
   ]
  },
  {
   "cell_type": "code",
   "execution_count": 33,
   "id": "547030b3",
   "metadata": {
    "execution": {
     "iopub.execute_input": "2023-03-18T14:23:21.521707Z",
     "iopub.status.busy": "2023-03-18T14:23:21.521279Z",
     "iopub.status.idle": "2023-03-18T14:23:21.527627Z",
     "shell.execute_reply": "2023-03-18T14:23:21.526578Z"
    },
    "papermill": {
     "duration": 0.053302,
     "end_time": "2023-03-18T14:23:21.530962",
     "exception": false,
     "start_time": "2023-03-18T14:23:21.477660",
     "status": "completed"
    },
    "tags": []
   },
   "outputs": [],
   "source": [
    "#removing outliers\n",
    "df4 = df3[~(df3.total_sqft/df3.bhk<300)]"
   ]
  },
  {
   "cell_type": "code",
   "execution_count": 34,
   "id": "3a05d7a0",
   "metadata": {
    "execution": {
     "iopub.execute_input": "2023-03-18T14:23:21.622323Z",
     "iopub.status.busy": "2023-03-18T14:23:21.620596Z",
     "iopub.status.idle": "2023-03-18T14:23:21.628308Z",
     "shell.execute_reply": "2023-03-18T14:23:21.627097Z"
    },
    "papermill": {
     "duration": 0.055898,
     "end_time": "2023-03-18T14:23:21.630825",
     "exception": false,
     "start_time": "2023-03-18T14:23:21.574927",
     "status": "completed"
    },
    "tags": []
   },
   "outputs": [
    {
     "data": {
      "text/plain": [
       "(12013, 9)"
      ]
     },
     "execution_count": 34,
     "metadata": {},
     "output_type": "execute_result"
    }
   ],
   "source": [
    "#shape after removing outliers\n",
    "df4.shape"
   ]
  },
  {
   "cell_type": "code",
   "execution_count": 35,
   "id": "7fa6a36d",
   "metadata": {
    "execution": {
     "iopub.execute_input": "2023-03-18T14:23:21.715766Z",
     "iopub.status.busy": "2023-03-18T14:23:21.715185Z",
     "iopub.status.idle": "2023-03-18T14:23:21.726479Z",
     "shell.execute_reply": "2023-03-18T14:23:21.725493Z"
    },
    "papermill": {
     "duration": 0.056379,
     "end_time": "2023-03-18T14:23:21.728707",
     "exception": false,
     "start_time": "2023-03-18T14:23:21.672328",
     "status": "completed"
    },
    "tags": []
   },
   "outputs": [
    {
     "data": {
      "text/plain": [
       "count     12013.000000\n",
       "mean       6206.082347\n",
       "std        3985.518807\n",
       "min         267.829813\n",
       "25%        4199.363057\n",
       "50%        5252.525253\n",
       "75%        6823.529412\n",
       "max      176470.588235\n",
       "Name: price_per_sqft, dtype: float64"
      ]
     },
     "execution_count": 35,
     "metadata": {},
     "output_type": "execute_result"
    }
   ],
   "source": [
    "#mathematical overview of the price_per_sqft\n",
    "df4.price_per_sqft.describe()"
   ]
  },
  {
   "cell_type": "markdown",
   "id": "f18a7987",
   "metadata": {
    "papermill": {
     "duration": 0.04194,
     "end_time": "2023-03-18T14:23:21.812118",
     "exception": false,
     "start_time": "2023-03-18T14:23:21.770178",
     "status": "completed"
    },
    "tags": []
   },
   "source": [
    "As we can see here, that the minimum value of price_per_sqft is 267, but in bengaluru getting 267 price per sqft is very low so, it may be a outlier.<br>\n",
    "And the maximum value of price_per_sqft is 176470 which can be possible for prime area but here we are building a generic model it makes sense to remove this kind of extreme cases."
   ]
  },
  {
   "cell_type": "code",
   "execution_count": 36,
   "id": "96596af8",
   "metadata": {
    "execution": {
     "iopub.execute_input": "2023-03-18T14:23:21.898780Z",
     "iopub.status.busy": "2023-03-18T14:23:21.897545Z",
     "iopub.status.idle": "2023-03-18T14:23:21.904689Z",
     "shell.execute_reply": "2023-03-18T14:23:21.903591Z"
    },
    "papermill": {
     "duration": 0.053171,
     "end_time": "2023-03-18T14:23:21.907172",
     "exception": false,
     "start_time": "2023-03-18T14:23:21.854001",
     "status": "completed"
    },
    "tags": []
   },
   "outputs": [],
   "source": [
    "def remove_pps_outliers(df):\n",
    "    df_out = pd.DataFrame()\n",
    "    for key, subdf in df.groupby('location'):\n",
    "        m = np.mean(subdf.price_per_sqft) #mean of the price_per_sqft\n",
    "        st = np.std(subdf.price_per_sqft) #standard deviation of the price_per_sqft\n",
    "        reduced_df = subdf[(subdf.price_per_sqft>(m-st)) & (subdf.price_per_sqft <=(m+st))]\n",
    "        df_out = pd.concat([df_out, reduced_df], ignore_index = True)\n",
    "    return df_out"
   ]
  },
  {
   "cell_type": "code",
   "execution_count": 37,
   "id": "2ea077dd",
   "metadata": {
    "execution": {
     "iopub.execute_input": "2023-03-18T14:23:21.993459Z",
     "iopub.status.busy": "2023-03-18T14:23:21.992174Z",
     "iopub.status.idle": "2023-03-18T14:23:22.562372Z",
     "shell.execute_reply": "2023-03-18T14:23:22.560834Z"
    },
    "papermill": {
     "duration": 0.615738,
     "end_time": "2023-03-18T14:23:22.564930",
     "exception": false,
     "start_time": "2023-03-18T14:23:21.949192",
     "status": "completed"
    },
    "tags": []
   },
   "outputs": [
    {
     "data": {
      "text/plain": [
       "(9852, 9)"
      ]
     },
     "execution_count": 37,
     "metadata": {},
     "output_type": "execute_result"
    }
   ],
   "source": [
    "df5 = remove_pps_outliers(df4)\n",
    "#shape after removing outliers\n",
    "df5.shape"
   ]
  },
  {
   "cell_type": "code",
   "execution_count": 38,
   "id": "bcaec0f9",
   "metadata": {
    "execution": {
     "iopub.execute_input": "2023-03-18T14:23:22.651905Z",
     "iopub.status.busy": "2023-03-18T14:23:22.651438Z",
     "iopub.status.idle": "2023-03-18T14:23:23.051942Z",
     "shell.execute_reply": "2023-03-18T14:23:23.050693Z"
    },
    "papermill": {
     "duration": 0.446654,
     "end_time": "2023-03-18T14:23:23.054451",
     "exception": false,
     "start_time": "2023-03-18T14:23:22.607797",
     "status": "completed"
    },
    "tags": []
   },
   "outputs": [
    {
     "data": {
      "image/png": "[encoded data removed]",
      "text/plain": [
       "<Figure size 1080x720 with 1 Axes>"
      ]
     },
     "metadata": {
      "needs_background": "light"
     },
     "output_type": "display_data"
    }
   ],
   "source": [
    "def plot_scatter_chart(df,location):\n",
    "    bhk2 = df[(df.location==location) & (df.bhk==2)]\n",
    "    bhk3 = df[(df.location==location) & (df.bhk==3)]\n",
    "    plt.rcParams['figure.figsize']=(15,10)\n",
    "    plt.scatter(bhk2.total_sqft, bhk2.price_per_sqft, color='blue', label='2 BHK', s=50)\n",
    "    plt.scatter(bhk3.total_sqft, bhk3.price_per_sqft, marker='+', color='green', label='3 BHK', s=50)\n",
    "    plt.xlabel('Total Square Feet Area')\n",
    "    plt.ylabel('Price Per Square Feet')\n",
    "    plt.title(location)\n",
    "    plt.legend()\n",
    "plot_scatter_chart(df5,\"Rajaji Nagar\")    "
   ]
  },
  {
   "cell_type": "markdown",
   "id": "196acaa5",
   "metadata": {
    "papermill": {
     "duration": 0.043067,
     "end_time": "2023-03-18T14:23:23.141073",
     "exception": false,
     "start_time": "2023-03-18T14:23:23.098006",
     "status": "completed"
    },
    "tags": []
   },
   "source": [
    "From above visualization, we can see that in some cases 2BHK has more price than 3BHK for the same square feet area they can be considered as outliers\n",
    "so, we will deal with them in outlier section."
   ]
  },
  {
   "cell_type": "code",
   "execution_count": 39,
   "id": "297acf42",
   "metadata": {
    "execution": {
     "iopub.execute_input": "2023-03-18T14:23:23.229909Z",
     "iopub.status.busy": "2023-03-18T14:23:23.229444Z",
     "iopub.status.idle": "2023-03-18T14:23:23.237309Z",
     "shell.execute_reply": "2023-03-18T14:23:23.236424Z"
    },
    "papermill": {
     "duration": 0.054974,
     "end_time": "2023-03-18T14:23:23.239302",
     "exception": false,
     "start_time": "2023-03-18T14:23:23.184328",
     "status": "completed"
    },
    "tags": []
   },
   "outputs": [],
   "source": [
    "def remove_bhk_outliers(df):\n",
    "    exclude_indices = np.array([])\n",
    "    for location, location_df in df.groupby('location'):\n",
    "        bhk_stats = {}\n",
    "        for bhk, bhk_df in location_df.groupby('bhk'):\n",
    "            bhk_stats[bhk] = {\n",
    "                'mean': np.mean(bhk_df.price_per_sqft),\n",
    "                'std': np.std(bhk_df.price_per_sqft),\n",
    "                'count': bhk_df.shape[0]\n",
    "            }\n",
    "        for bhk, bhk_df in location_df.groupby('bhk'):\n",
    "            stats= bhk_stats.get(bhk-1)\n",
    "            if stats and stats['count']>5:\n",
    "                exclude_indices = np.append(exclude_indices, bhk_df[bhk_df.price_per_sqft<(stats['mean'])].index.values)\n",
    "    return df.drop(exclude_indices, axis='index')"
   ]
  },
  {
   "cell_type": "code",
   "execution_count": 40,
   "id": "be893597",
   "metadata": {
    "execution": {
     "iopub.execute_input": "2023-03-18T14:23:23.327396Z",
     "iopub.status.busy": "2023-03-18T14:23:23.326627Z",
     "iopub.status.idle": "2023-03-18T14:23:24.068120Z",
     "shell.execute_reply": "2023-03-18T14:23:24.066556Z"
    },
    "papermill": {
     "duration": 0.790434,
     "end_time": "2023-03-18T14:23:24.072349",
     "exception": false,
     "start_time": "2023-03-18T14:23:23.281915",
     "status": "completed"
    },
    "tags": []
   },
   "outputs": [
    {
     "data": {
      "text/plain": [
       "(7014, 9)"
      ]
     },
     "execution_count": 40,
     "metadata": {},
     "output_type": "execute_result"
    }
   ],
   "source": [
    "df6 = remove_bhk_outliers(df5)\n",
    "#shape after removing outliers\n",
    "df6.shape"
   ]
  },
  {
   "cell_type": "code",
   "execution_count": 41,
   "id": "d5df66d2",
   "metadata": {
    "execution": {
     "iopub.execute_input": "2023-03-18T14:23:24.161209Z",
     "iopub.status.busy": "2023-03-18T14:23:24.160560Z",
     "iopub.status.idle": "2023-03-18T14:23:24.444293Z",
     "shell.execute_reply": "2023-03-18T14:23:24.442997Z"
    },
    "papermill": {
     "duration": 0.331234,
     "end_time": "2023-03-18T14:23:24.446994",
     "exception": false,
     "start_time": "2023-03-18T14:23:24.115760",
     "status": "completed"
    },
    "tags": []
   },
   "outputs": [
    {
     "data": {
      "image/png": "[encoded data removed]",
      "text/plain": [
       "<Figure size 1080x720 with 1 Axes>"
      ]
     },
     "metadata": {
      "needs_background": "light"
     },
     "output_type": "display_data"
    }
   ],
   "source": [
    "plt.hist(df6['bath'],rwidth=0.8)\n",
    "plt.title('bath distribution',fontsize=20)\n",
    "plt.xlabel('Number of bathrooms',fontsize=20)\n",
    "plt.ylabel('Count')\n",
    "plt.show()"
   ]
  },
  {
   "cell_type": "markdown",
   "id": "7b9373cc",
   "metadata": {
    "papermill": {
     "duration": 0.043163,
     "end_time": "2023-03-18T14:23:24.535416",
     "exception": false,
     "start_time": "2023-03-18T14:23:24.492253",
     "status": "completed"
    },
    "tags": []
   },
   "source": [
    "Here, we can see that there are some outliers where there are more number of bathrooms.<br>\n",
    "As we know that the number of bathroom wouldn't be greater than number of bedrooms but sometimes we can have number of bathroom+2 for the number of bedrooms but more than it will be unusual."
   ]
  },
  {
   "cell_type": "code",
   "execution_count": 42,
   "id": "42bfda0b",
   "metadata": {
    "execution": {
     "iopub.execute_input": "2023-03-18T14:23:24.627514Z",
     "iopub.status.busy": "2023-03-18T14:23:24.627066Z",
     "iopub.status.idle": "2023-03-18T14:23:24.643545Z",
     "shell.execute_reply": "2023-03-18T14:23:24.642061Z"
    },
    "papermill": {
     "duration": 0.066721,
     "end_time": "2023-03-18T14:23:24.646334",
     "exception": false,
     "start_time": "2023-03-18T14:23:24.579613",
     "status": "completed"
    },
    "tags": []
   },
   "outputs": [
    {
     "data": {
      "text/html": [
       "<div>\n",
       "<style scoped>\n",
       "    .dataframe tbody tr th:only-of-type {\n",
       "        vertical-align: middle;\n",
       "    }\n",
       "\n",
       "    .dataframe tbody tr th {\n",
       "        vertical-align: top;\n",
       "    }\n",
       "\n",
       "    .dataframe thead th {\n",
       "        text-align: right;\n",
       "    }\n",
       "</style>\n",
       "<table border=\"1\" class=\"dataframe\">\n",
       "  <thead>\n",
       "    <tr style=\"text-align: right;\">\n",
       "      <th></th>\n",
       "      <th>area_type</th>\n",
       "      <th>location</th>\n",
       "      <th>size</th>\n",
       "      <th>total_sqft</th>\n",
       "      <th>bath</th>\n",
       "      <th>balcony</th>\n",
       "      <th>price</th>\n",
       "      <th>bhk</th>\n",
       "      <th>price_per_sqft</th>\n",
       "    </tr>\n",
       "  </thead>\n",
       "  <tbody>\n",
       "    <tr>\n",
       "      <th>1542</th>\n",
       "      <td>Built-up  Area</td>\n",
       "      <td>Chikkabanavar</td>\n",
       "      <td>4 Bedroom</td>\n",
       "      <td>2460.0</td>\n",
       "      <td>7</td>\n",
       "      <td>2.0</td>\n",
       "      <td>80.0</td>\n",
       "      <td>4</td>\n",
       "      <td>3252.032520</td>\n",
       "    </tr>\n",
       "    <tr>\n",
       "      <th>5578</th>\n",
       "      <td>Super built-up  Area</td>\n",
       "      <td>Other</td>\n",
       "      <td>6 BHK</td>\n",
       "      <td>11338.0</td>\n",
       "      <td>9</td>\n",
       "      <td>1.0</td>\n",
       "      <td>1000.0</td>\n",
       "      <td>6</td>\n",
       "      <td>8819.897689</td>\n",
       "    </tr>\n",
       "    <tr>\n",
       "      <th>8658</th>\n",
       "      <td>Super built-up  Area</td>\n",
       "      <td>Thanisandra</td>\n",
       "      <td>3 BHK</td>\n",
       "      <td>1806.0</td>\n",
       "      <td>6</td>\n",
       "      <td>2.0</td>\n",
       "      <td>116.0</td>\n",
       "      <td>3</td>\n",
       "      <td>6423.034330</td>\n",
       "    </tr>\n",
       "  </tbody>\n",
       "</table>\n",
       "</div>"
      ],
      "text/plain": [
       "                 area_type       location       size  total_sqft  bath  \\\n",
       "1542        Built-up  Area  Chikkabanavar  4 Bedroom      2460.0     7   \n",
       "5578  Super built-up  Area          Other      6 BHK     11338.0     9   \n",
       "8658  Super built-up  Area    Thanisandra      3 BHK      1806.0     6   \n",
       "\n",
       "      balcony   price  bhk  price_per_sqft  \n",
       "1542      2.0    80.0    4     3252.032520  \n",
       "5578      1.0  1000.0    6     8819.897689  \n",
       "8658      2.0   116.0    3     6423.034330  "
      ]
     },
     "execution_count": 42,
     "metadata": {},
     "output_type": "execute_result"
    }
   ],
   "source": [
    "df6[df6.bath>df6.bhk+2]"
   ]
  },
  {
   "cell_type": "code",
   "execution_count": 43,
   "id": "d5a682a1",
   "metadata": {
    "execution": {
     "iopub.execute_input": "2023-03-18T14:23:24.737252Z",
     "iopub.status.busy": "2023-03-18T14:23:24.736830Z",
     "iopub.status.idle": "2023-03-18T14:23:24.747125Z",
     "shell.execute_reply": "2023-03-18T14:23:24.745557Z"
    },
    "papermill": {
     "duration": 0.058294,
     "end_time": "2023-03-18T14:23:24.749802",
     "exception": false,
     "start_time": "2023-03-18T14:23:24.691508",
     "status": "completed"
    },
    "tags": []
   },
   "outputs": [
    {
     "data": {
      "text/plain": [
       "(6947, 9)"
      ]
     },
     "execution_count": 43,
     "metadata": {},
     "output_type": "execute_result"
    }
   ],
   "source": [
    "df7=df6[df6.bath<df6.bhk+2]\n",
    "df7.shape"
   ]
  },
  {
   "cell_type": "code",
   "execution_count": 44,
   "id": "e638976f",
   "metadata": {
    "execution": {
     "iopub.execute_input": "2023-03-18T14:23:24.839332Z",
     "iopub.status.busy": "2023-03-18T14:23:24.838925Z",
     "iopub.status.idle": "2023-03-18T14:23:24.854199Z",
     "shell.execute_reply": "2023-03-18T14:23:24.852965Z"
    },
    "papermill": {
     "duration": 0.063091,
     "end_time": "2023-03-18T14:23:24.856664",
     "exception": false,
     "start_time": "2023-03-18T14:23:24.793573",
     "status": "completed"
    },
    "tags": []
   },
   "outputs": [
    {
     "data": {
      "text/html": [
       "<div>\n",
       "<style scoped>\n",
       "    .dataframe tbody tr th:only-of-type {\n",
       "        vertical-align: middle;\n",
       "    }\n",
       "\n",
       "    .dataframe tbody tr th {\n",
       "        vertical-align: top;\n",
       "    }\n",
       "\n",
       "    .dataframe thead th {\n",
       "        text-align: right;\n",
       "    }\n",
       "</style>\n",
       "<table border=\"1\" class=\"dataframe\">\n",
       "  <thead>\n",
       "    <tr style=\"text-align: right;\">\n",
       "      <th></th>\n",
       "      <th>area_type</th>\n",
       "      <th>location</th>\n",
       "      <th>total_sqft</th>\n",
       "      <th>bath</th>\n",
       "      <th>balcony</th>\n",
       "      <th>price</th>\n",
       "      <th>bhk</th>\n",
       "    </tr>\n",
       "  </thead>\n",
       "  <tbody>\n",
       "    <tr>\n",
       "      <th>0</th>\n",
       "      <td>Super built-up  Area</td>\n",
       "      <td>1st Block Jayanagar</td>\n",
       "      <td>2850.0</td>\n",
       "      <td>4</td>\n",
       "      <td>1.0</td>\n",
       "      <td>428.0</td>\n",
       "      <td>4</td>\n",
       "    </tr>\n",
       "    <tr>\n",
       "      <th>1</th>\n",
       "      <td>Super built-up  Area</td>\n",
       "      <td>1st Block Jayanagar</td>\n",
       "      <td>1630.0</td>\n",
       "      <td>3</td>\n",
       "      <td>2.0</td>\n",
       "      <td>194.0</td>\n",
       "      <td>3</td>\n",
       "    </tr>\n",
       "    <tr>\n",
       "      <th>2</th>\n",
       "      <td>Super built-up  Area</td>\n",
       "      <td>1st Block Jayanagar</td>\n",
       "      <td>1875.0</td>\n",
       "      <td>2</td>\n",
       "      <td>3.0</td>\n",
       "      <td>235.0</td>\n",
       "      <td>3</td>\n",
       "    </tr>\n",
       "    <tr>\n",
       "      <th>3</th>\n",
       "      <td>Built-up  Area</td>\n",
       "      <td>1st Block Jayanagar</td>\n",
       "      <td>1200.0</td>\n",
       "      <td>2</td>\n",
       "      <td>0.0</td>\n",
       "      <td>130.0</td>\n",
       "      <td>3</td>\n",
       "    </tr>\n",
       "    <tr>\n",
       "      <th>4</th>\n",
       "      <td>Super built-up  Area</td>\n",
       "      <td>1st Block Jayanagar</td>\n",
       "      <td>1235.0</td>\n",
       "      <td>2</td>\n",
       "      <td>2.0</td>\n",
       "      <td>148.0</td>\n",
       "      <td>2</td>\n",
       "    </tr>\n",
       "  </tbody>\n",
       "</table>\n",
       "</div>"
      ],
      "text/plain": [
       "              area_type             location  total_sqft  bath  balcony  \\\n",
       "0  Super built-up  Area  1st Block Jayanagar      2850.0     4      1.0   \n",
       "1  Super built-up  Area  1st Block Jayanagar      1630.0     3      2.0   \n",
       "2  Super built-up  Area  1st Block Jayanagar      1875.0     2      3.0   \n",
       "3        Built-up  Area  1st Block Jayanagar      1200.0     2      0.0   \n",
       "4  Super built-up  Area  1st Block Jayanagar      1235.0     2      2.0   \n",
       "\n",
       "   price  bhk  \n",
       "0  428.0    4  \n",
       "1  194.0    3  \n",
       "2  235.0    3  \n",
       "3  130.0    3  \n",
       "4  148.0    2  "
      ]
     },
     "execution_count": 44,
     "metadata": {},
     "output_type": "execute_result"
    }
   ],
   "source": [
    "#drop unnecessary features\n",
    "df8=df7.drop(['size','price_per_sqft'],axis=1)\n",
    "df8.head()"
   ]
  },
  {
   "cell_type": "markdown",
   "id": "fae14b49",
   "metadata": {
    "papermill": {
     "duration": 0.043863,
     "end_time": "2023-03-18T14:23:24.945096",
     "exception": false,
     "start_time": "2023-03-18T14:23:24.901233",
     "status": "completed"
    },
    "tags": []
   },
   "source": [
    "Here we droped size as we already have bhk column replacing it and \n",
    "price_per_sqft as we created it for just outlier detection.<br>\n",
    "location column is in categorical as we know that machine learning algorithm do not works well with categorical features so we need to convert it to numerical feature."
   ]
  },
  {
   "cell_type": "code",
   "execution_count": 45,
   "id": "73a810a1",
   "metadata": {
    "execution": {
     "iopub.execute_input": "2023-03-18T14:23:25.035599Z",
     "iopub.status.busy": "2023-03-18T14:23:25.035160Z",
     "iopub.status.idle": "2023-03-18T14:23:25.042370Z",
     "shell.execute_reply": "2023-03-18T14:23:25.041549Z"
    },
    "papermill": {
     "duration": 0.055618,
     "end_time": "2023-03-18T14:23:25.044626",
     "exception": false,
     "start_time": "2023-03-18T14:23:24.989008",
     "status": "completed"
    },
    "tags": []
   },
   "outputs": [],
   "source": [
    "# Mapping unique values in area_type to a numerical representation\n",
    "area_type_mapper = {}\n",
    "c = 0\n",
    "for typ in df8.area_type.unique():\n",
    "    area_type_mapper[typ]=c\n",
    "    c+=1\n",
    "    \n",
    "# Mapping unique values in location to a numerical representation\n",
    "location_mapper = {}\n",
    "c = 0\n",
    "for location in df8.location.unique():\n",
    "    location_mapper[location]=c\n",
    "    c+=1"
   ]
  },
  {
   "cell_type": "code",
   "execution_count": 46,
   "id": "cc236a92",
   "metadata": {
    "execution": {
     "iopub.execute_input": "2023-03-18T14:23:25.136216Z",
     "iopub.status.busy": "2023-03-18T14:23:25.135820Z",
     "iopub.status.idle": "2023-03-18T14:23:25.159493Z",
     "shell.execute_reply": "2023-03-18T14:23:25.158319Z"
    },
    "papermill": {
     "duration": 0.073057,
     "end_time": "2023-03-18T14:23:25.162213",
     "exception": false,
     "start_time": "2023-03-18T14:23:25.089156",
     "status": "completed"
    },
    "tags": []
   },
   "outputs": [],
   "source": [
    "# Converting Categorical Feature to its Numerical Representation\n",
    "df8['area_type']=list(map(lambda l:area_type_mapper[l], df8['area_type'].values))\n",
    "df8['location']=list(map(lambda l:location_mapper[l], df8['location'].values))"
   ]
  },
  {
   "cell_type": "code",
   "execution_count": 47,
   "id": "94735b37",
   "metadata": {
    "execution": {
     "iopub.execute_input": "2023-03-18T14:23:25.476107Z",
     "iopub.status.busy": "2023-03-18T14:23:25.475337Z",
     "iopub.status.idle": "2023-03-18T14:23:25.481429Z",
     "shell.execute_reply": "2023-03-18T14:23:25.480334Z"
    },
    "papermill": {
     "duration": 0.054715,
     "end_time": "2023-03-18T14:23:25.483602",
     "exception": false,
     "start_time": "2023-03-18T14:23:25.428887",
     "status": "completed"
    },
    "tags": []
   },
   "outputs": [
    {
     "data": {
      "text/plain": [
       "(6947, 7)"
      ]
     },
     "execution_count": 47,
     "metadata": {},
     "output_type": "execute_result"
    }
   ],
   "source": [
    "df8.shape"
   ]
  },
  {
   "cell_type": "code",
   "execution_count": 48,
   "id": "809eb4aa",
   "metadata": {},
   "outputs": [
    {
     "data": {
      "text/html": [
       "<div>\n",
       "<style scoped>\n",
       "    .dataframe tbody tr th:only-of-type {\n",
       "        vertical-align: middle;\n",
       "    }\n",
       "\n",
       "    .dataframe tbody tr th {\n",
       "        vertical-align: top;\n",
       "    }\n",
       "\n",
       "    .dataframe thead th {\n",
       "        text-align: right;\n",
       "    }\n",
       "</style>\n",
       "<table border=\"1\" class=\"dataframe\">\n",
       "  <thead>\n",
       "    <tr style=\"text-align: right;\">\n",
       "      <th></th>\n",
       "      <th>area_type</th>\n",
       "      <th>location</th>\n",
       "      <th>total_sqft</th>\n",
       "      <th>bath</th>\n",
       "      <th>balcony</th>\n",
       "      <th>price</th>\n",
       "      <th>bhk</th>\n",
       "    </tr>\n",
       "  </thead>\n",
       "  <tbody>\n",
       "    <tr>\n",
       "      <th>0</th>\n",
       "      <td>0</td>\n",
       "      <td>0</td>\n",
       "      <td>2850.0</td>\n",
       "      <td>4</td>\n",
       "      <td>1.0</td>\n",
       "      <td>428.0</td>\n",
       "      <td>4</td>\n",
       "    </tr>\n",
       "    <tr>\n",
       "      <th>1</th>\n",
       "      <td>0</td>\n",
       "      <td>0</td>\n",
       "      <td>1630.0</td>\n",
       "      <td>3</td>\n",
       "      <td>2.0</td>\n",
       "      <td>194.0</td>\n",
       "      <td>3</td>\n",
       "    </tr>\n",
       "    <tr>\n",
       "      <th>2</th>\n",
       "      <td>0</td>\n",
       "      <td>0</td>\n",
       "      <td>1875.0</td>\n",
       "      <td>2</td>\n",
       "      <td>3.0</td>\n",
       "      <td>235.0</td>\n",
       "      <td>3</td>\n",
       "    </tr>\n",
       "    <tr>\n",
       "      <th>3</th>\n",
       "      <td>1</td>\n",
       "      <td>0</td>\n",
       "      <td>1200.0</td>\n",
       "      <td>2</td>\n",
       "      <td>0.0</td>\n",
       "      <td>130.0</td>\n",
       "      <td>3</td>\n",
       "    </tr>\n",
       "    <tr>\n",
       "      <th>4</th>\n",
       "      <td>0</td>\n",
       "      <td>0</td>\n",
       "      <td>1235.0</td>\n",
       "      <td>2</td>\n",
       "      <td>2.0</td>\n",
       "      <td>148.0</td>\n",
       "      <td>2</td>\n",
       "    </tr>\n",
       "  </tbody>\n",
       "</table>\n",
       "</div>"
      ],
      "text/plain": [
       "   area_type  location  total_sqft  bath  balcony  price  bhk\n",
       "0          0         0      2850.0     4      1.0  428.0    4\n",
       "1          0         0      1630.0     3      2.0  194.0    3\n",
       "2          0         0      1875.0     2      3.0  235.0    3\n",
       "3          1         0      1200.0     2      0.0  130.0    3\n",
       "4          0         0      1235.0     2      2.0  148.0    2"
      ]
     },
     "execution_count": 48,
     "metadata": {},
     "output_type": "execute_result"
    }
   ],
   "source": [
    "df8.head()"
   ]
  },
  {
   "cell_type": "markdown",
   "id": "ba7c3a9f",
   "metadata": {
    "papermill": {
     "duration": 0.045131,
     "end_time": "2023-03-18T14:23:25.573201",
     "exception": false,
     "start_time": "2023-03-18T14:23:25.528070",
     "status": "completed"
    },
    "tags": []
   },
   "source": [
    "# Model Building"
   ]
  },
  {
   "cell_type": "code",
   "execution_count": 49,
   "id": "2535b03e",
   "metadata": {
    "execution": {
     "iopub.execute_input": "2023-03-18T14:23:25.685661Z",
     "iopub.status.busy": "2023-03-18T14:23:25.684833Z",
     "iopub.status.idle": "2023-03-18T14:23:25.714644Z",
     "shell.execute_reply": "2023-03-18T14:23:25.713488Z"
    },
    "papermill": {
     "duration": 0.095949,
     "end_time": "2023-03-18T14:23:25.717105",
     "exception": false,
     "start_time": "2023-03-18T14:23:25.621156",
     "status": "completed"
    },
    "tags": []
   },
   "outputs": [
    {
     "data": {
      "text/html": [
       "<div>\n",
       "<style scoped>\n",
       "    .dataframe tbody tr th:only-of-type {\n",
       "        vertical-align: middle;\n",
       "    }\n",
       "\n",
       "    .dataframe tbody tr th {\n",
       "        vertical-align: top;\n",
       "    }\n",
       "\n",
       "    .dataframe thead th {\n",
       "        text-align: right;\n",
       "    }\n",
       "</style>\n",
       "<table border=\"1\" class=\"dataframe\">\n",
       "  <thead>\n",
       "    <tr style=\"text-align: right;\">\n",
       "      <th></th>\n",
       "      <th>area_type</th>\n",
       "      <th>location</th>\n",
       "      <th>total_sqft</th>\n",
       "      <th>bath</th>\n",
       "      <th>balcony</th>\n",
       "      <th>bhk</th>\n",
       "    </tr>\n",
       "  </thead>\n",
       "  <tbody>\n",
       "    <tr>\n",
       "      <th>0</th>\n",
       "      <td>0</td>\n",
       "      <td>0</td>\n",
       "      <td>2850.0</td>\n",
       "      <td>4</td>\n",
       "      <td>1.0</td>\n",
       "      <td>4</td>\n",
       "    </tr>\n",
       "    <tr>\n",
       "      <th>1</th>\n",
       "      <td>0</td>\n",
       "      <td>0</td>\n",
       "      <td>1630.0</td>\n",
       "      <td>3</td>\n",
       "      <td>2.0</td>\n",
       "      <td>3</td>\n",
       "    </tr>\n",
       "    <tr>\n",
       "      <th>2</th>\n",
       "      <td>0</td>\n",
       "      <td>0</td>\n",
       "      <td>1875.0</td>\n",
       "      <td>2</td>\n",
       "      <td>3.0</td>\n",
       "      <td>3</td>\n",
       "    </tr>\n",
       "    <tr>\n",
       "      <th>3</th>\n",
       "      <td>1</td>\n",
       "      <td>0</td>\n",
       "      <td>1200.0</td>\n",
       "      <td>2</td>\n",
       "      <td>0.0</td>\n",
       "      <td>3</td>\n",
       "    </tr>\n",
       "    <tr>\n",
       "      <th>4</th>\n",
       "      <td>0</td>\n",
       "      <td>0</td>\n",
       "      <td>1235.0</td>\n",
       "      <td>2</td>\n",
       "      <td>2.0</td>\n",
       "      <td>2</td>\n",
       "    </tr>\n",
       "  </tbody>\n",
       "</table>\n",
       "</div>"
      ],
      "text/plain": [
       "   area_type  location  total_sqft  bath  balcony  bhk\n",
       "0          0         0      2850.0     4      1.0    4\n",
       "1          0         0      1630.0     3      2.0    3\n",
       "2          0         0      1875.0     2      3.0    3\n",
       "3          1         0      1200.0     2      0.0    3\n",
       "4          0         0      1235.0     2      2.0    2"
      ]
     },
     "execution_count": 49,
     "metadata": {},
     "output_type": "execute_result"
    }
   ],
   "source": [
    "# x will be have only independent features\n",
    "X=df8.drop('price',axis=1)\n",
    "X.head()"
   ]
  },
  {
   "cell_type": "code",
   "execution_count": 50,
   "id": "d32f4df0",
   "metadata": {
    "execution": {
     "iopub.execute_input": "2023-03-18T14:23:25.810872Z",
     "iopub.status.busy": "2023-03-18T14:23:25.810416Z",
     "iopub.status.idle": "2023-03-18T14:23:25.818241Z",
     "shell.execute_reply": "2023-03-18T14:23:25.817363Z"
    },
    "papermill": {
     "duration": 0.05818,
     "end_time": "2023-03-18T14:23:25.820374",
     "exception": false,
     "start_time": "2023-03-18T14:23:25.762194",
     "status": "completed"
    },
    "tags": []
   },
   "outputs": [
    {
     "data": {
      "text/plain": [
       "0    428.0\n",
       "1    194.0\n",
       "2    235.0\n",
       "3    130.0\n",
       "4    148.0\n",
       "Name: price, dtype: float64"
      ]
     },
     "execution_count": 50,
     "metadata": {},
     "output_type": "execute_result"
    }
   ],
   "source": [
    "# y will be have only dependent features\n",
    "y=df8.price\n",
    "y.head()"
   ]
  },
  {
   "cell_type": "code",
   "execution_count": 51,
   "id": "162f7c66",
   "metadata": {
    "execution": {
     "iopub.execute_input": "2023-03-18T14:23:25.914566Z",
     "iopub.status.busy": "2023-03-18T14:23:25.913276Z",
     "iopub.status.idle": "2023-03-18T14:23:26.141899Z",
     "shell.execute_reply": "2023-03-18T14:23:26.140743Z"
    },
    "papermill": {
     "duration": 0.278896,
     "end_time": "2023-03-18T14:23:26.144762",
     "exception": false,
     "start_time": "2023-03-18T14:23:25.865866",
     "status": "completed"
    },
    "tags": []
   },
   "outputs": [],
   "source": [
    "#train test split\n",
    "from sklearn.model_selection import train_test_split\n",
    "X_train,X_test,y_train,y_test=train_test_split(X,y,test_size=0.2,random_state=10)"
   ]
  },
  {
   "cell_type": "code",
   "execution_count": 52,
   "id": "2e94e235",
   "metadata": {
    "execution": {
     "iopub.execute_input": "2023-03-18T14:23:26.238972Z",
     "iopub.status.busy": "2023-03-18T14:23:26.238163Z",
     "iopub.status.idle": "2023-03-18T14:23:26.451187Z",
     "shell.execute_reply": "2023-03-18T14:23:26.449431Z"
    },
    "papermill": {
     "duration": 0.265829,
     "end_time": "2023-03-18T14:23:26.455975",
     "exception": false,
     "start_time": "2023-03-18T14:23:26.190146",
     "status": "completed"
    },
    "tags": []
   },
   "outputs": [
    {
     "data": {
      "text/plain": [
       "0.64770318137114"
      ]
     },
     "execution_count": 52,
     "metadata": {},
     "output_type": "execute_result"
    }
   ],
   "source": [
    "#model building\n",
    "from sklearn.linear_model import LinearRegression\n",
    "reg=LinearRegression()\n",
    "reg.fit(X_train,y_train)\n",
    "reg.score(X_test,y_test)"
   ]
  },
  {
   "cell_type": "code",
   "execution_count": 53,
   "id": "f0edd00f",
   "metadata": {
    "execution": {
     "iopub.execute_input": "2023-03-18T14:23:26.616009Z",
     "iopub.status.busy": "2023-03-18T14:23:26.615610Z",
     "iopub.status.idle": "2023-03-18T14:23:26.686013Z",
     "shell.execute_reply": "2023-03-18T14:23:26.684305Z"
    },
    "papermill": {
     "duration": 0.1235,
     "end_time": "2023-03-18T14:23:26.690442",
     "exception": false,
     "start_time": "2023-03-18T14:23:26.566942",
     "status": "completed"
    },
    "tags": []
   },
   "outputs": [
    {
     "data": {
      "text/plain": [
       "0.6486252106692706"
      ]
     },
     "execution_count": 53,
     "metadata": {},
     "output_type": "execute_result"
    }
   ],
   "source": [
    "from sklearn.linear_model import Lasso\n",
    "lasso = Lasso(alpha=0.1)\n",
    "lasso.fit(X_train,y_train)\n",
    "lasso.score(X_test,y_test)"
   ]
  },
  {
   "cell_type": "code",
   "execution_count": 54,
   "id": "e91abd7c",
   "metadata": {
    "execution": {
     "iopub.execute_input": "2023-03-18T14:23:26.850533Z",
     "iopub.status.busy": "2023-03-18T14:23:26.849456Z",
     "iopub.status.idle": "2023-03-18T14:23:27.163020Z",
     "shell.execute_reply": "2023-03-18T14:23:27.161598Z"
    },
    "papermill": {
     "duration": 0.363759,
     "end_time": "2023-03-18T14:23:27.165626",
     "exception": false,
     "start_time": "2023-03-18T14:23:26.801867",
     "status": "completed"
    },
    "tags": []
   },
   "outputs": [
    {
     "data": {
      "text/plain": [
       "0.7221397662251607"
      ]
     },
     "execution_count": 54,
     "metadata": {},
     "output_type": "execute_result"
    }
   ],
   "source": [
    "from sklearn.tree import DecisionTreeRegressor\n",
    "clf = DecisionTreeRegressor()\n",
    "clf = clf.fit(X_train,y_train)\n",
    "clf.score(X_test,y_test)"
   ]
  },
  {
   "cell_type": "code",
   "execution_count": 55,
   "id": "b78a5c95",
   "metadata": {
    "execution": {
     "iopub.execute_input": "2023-03-18T14:23:27.258882Z",
     "iopub.status.busy": "2023-03-18T14:23:27.257676Z",
     "iopub.status.idle": "2023-03-18T14:23:28.993620Z",
     "shell.execute_reply": "2023-03-18T14:23:28.992430Z"
    },
    "papermill": {
     "duration": 1.785186,
     "end_time": "2023-03-18T14:23:28.996279",
     "exception": false,
     "start_time": "2023-03-18T14:23:27.211093",
     "status": "completed"
    },
    "tags": []
   },
   "outputs": [
    {
     "name": "stdout",
     "output_type": "stream",
     "text": [
      "Linear regression: [0.68563263 0.66696475 0.6714391  0.68180414 0.69054186]\n",
      "Lasso regression: [0.68554582 0.66696508 0.67092247 0.68070202 0.69026737]\n",
      "Decision tree regression: [0.47666287 0.67407919 0.57726288 0.71856573 0.56812271]\n"
     ]
    }
   ],
   "source": [
    "#K fold cross validation \n",
    "from sklearn.model_selection import ShuffleSplit\n",
    "from sklearn.model_selection import cross_val_score\n",
    "\n",
    "cv = ShuffleSplit(n_splits=5, test_size=0.2, random_state=0)\n",
    "\n",
    "print(\"Linear regression:\",cross_val_score(LinearRegression(), X, y, cv=cv))\n",
    "print(\"Lasso regression:\",cross_val_score(Lasso(), X, y, cv=cv))\n",
    "print(\"Decision tree regression:\",cross_val_score(DecisionTreeRegressor(), X, y, cv=cv))"
   ]
  },
  {
   "cell_type": "markdown",
   "id": "621665dc",
   "metadata": {
    "papermill": {
     "duration": 0.046593,
     "end_time": "2023-03-18T14:23:29.089840",
     "exception": false,
     "start_time": "2023-03-18T14:23:29.043247",
     "status": "completed"
    },
    "tags": []
   },
   "source": [
    "Based on above results we can say that DecisionTree gives the best score. Hence we will use that."
   ]
  },
  {
   "cell_type": "markdown",
   "id": "62c0c3d8",
   "metadata": {
    "papermill": {
     "duration": 0.046383,
     "end_time": "2023-03-18T14:23:29.184075",
     "exception": false,
     "start_time": "2023-03-18T14:23:29.137692",
     "status": "completed"
    },
    "tags": []
   },
   "source": [
    "#### Test the model for few properties"
   ]
  },
  {
   "cell_type": "code",
   "execution_count": 56,
   "id": "e62f47e2",
   "metadata": {
    "execution": {
     "iopub.execute_input": "2023-03-18T14:23:29.280286Z",
     "iopub.status.busy": "2023-03-18T14:23:29.279489Z",
     "iopub.status.idle": "2023-03-18T14:23:29.285706Z",
     "shell.execute_reply": "2023-03-18T14:23:29.284765Z"
    },
    "papermill": {
     "duration": 0.056678,
     "end_time": "2023-03-18T14:23:29.287939",
     "exception": false,
     "start_time": "2023-03-18T14:23:29.231261",
     "status": "completed"
    },
    "tags": []
   },
   "outputs": [],
   "source": [
    "def predict_price(area_type, location, sqft, bath, balcony, bhk):    \n",
    "\n",
    "    x = np.zeros(len(X.columns))\n",
    "    x[0] = area_type_mapper[area_type]\n",
    "    x[1] = location_mapper[location]\n",
    "    x[2] = sqft\n",
    "    x[3] = balcony\n",
    "    x[4] = bath\n",
    "    x[5] = bhk\n",
    "    df = pd.DataFrame([x], columns=X.columns)\n",
    "    return clf.predict(df)[0]"
   ]
  },
  {
   "cell_type": "code",
   "execution_count": 57,
   "id": "8ae28a72",
   "metadata": {
    "execution": {
     "iopub.execute_input": "2023-03-18T14:23:29.382613Z",
     "iopub.status.busy": "2023-03-18T14:23:29.381834Z",
     "iopub.status.idle": "2023-03-18T14:23:29.393688Z",
     "shell.execute_reply": "2023-03-18T14:23:29.391894Z"
    },
    "papermill": {
     "duration": 0.062489,
     "end_time": "2023-03-18T14:23:29.396568",
     "exception": false,
     "start_time": "2023-03-18T14:23:29.334079",
     "status": "completed"
    },
    "tags": []
   },
   "outputs": [
    {
     "data": {
      "text/plain": [
       "60.0"
      ]
     },
     "execution_count": 57,
     "metadata": {},
     "output_type": "execute_result"
    }
   ],
   "source": [
    "predict_price('Built-up  Area', '1st Phase JP Nagar',1000, 2, 1, 2)"
   ]
  },
  {
   "cell_type": "code",
   "execution_count": 58,
   "id": "ed5f4a68",
   "metadata": {
    "execution": {
     "iopub.execute_input": "2023-03-18T14:23:29.492766Z",
     "iopub.status.busy": "2023-03-18T14:23:29.492325Z",
     "iopub.status.idle": "2023-03-18T14:23:29.502612Z",
     "shell.execute_reply": "2023-03-18T14:23:29.500902Z"
    },
    "papermill": {
     "duration": 0.062754,
     "end_time": "2023-03-18T14:23:29.506677",
     "exception": false,
     "start_time": "2023-03-18T14:23:29.443923",
     "status": "completed"
    },
    "scrolled": true,
    "tags": []
   },
   "outputs": [
    {
     "data": {
      "text/plain": [
       "53.0"
      ]
     },
     "execution_count": 58,
     "metadata": {},
     "output_type": "execute_result"
    }
   ],
   "source": [
    "predict_price('Super built-up  Area', '1st Phase JP Nagar', 1000, 3, 2, 3)"
   ]
  },
  {
   "cell_type": "markdown",
   "id": "81d69f90",
   "metadata": {},
   "source": [
    "### Saving the Model"
   ]
  },
  {
   "cell_type": "code",
   "execution_count": 60,
   "id": "32203990",
   "metadata": {},
   "outputs": [],
   "source": [
    "import pickle\n",
    "\n",
    "with open('model.pkl', 'wb') as f:\n",
    "    pickle.dump(clf, f)"
   ]
  }
 ],
 "metadata": {
  "kernelspec": {
   "display_name": "Python 3 (ipykernel)",
   "language": "python",
   "name": "python3"
  },
  "language_info": {
   "codemirror_mode": {
    "name": "ipython",
    "version": 3
   },
   "file_extension": ".py",
   "mimetype": "text/x-python",
   "name": "python",
   "nbconvert_exporter": "python",
   "pygments_lexer": "ipython3",
   "version": "3.9.12"
  },
  "papermill": {
   "default_parameters": {},
   "duration": 37.18383,
   "end_time": "2023-03-18T14:23:30.880962",
   "environment_variables": {},
   "exception": null,
   "input_path": "__notebook__.ipynb",
   "output_path": "__notebook__.ipynb",
   "parameters": {},
   "start_time": "2023-03-18T14:22:53.697132",
   "version": "2.4.0"
  },
  "widgets": {
   "application/vnd.jupyter.widget-state+json": {
    "state": {
     "05f62a37cb984250bad4faeda03b0cb0": {
      "model_module": "@jupyter-widgets/controls",
      "model_module_version": "1.5.0",
      "model_name": "HTMLModel",
      "state": {
       "_dom_classes": [],
       "_model_module": "@jupyter-widgets/controls",
       "_model_module_version": "1.5.0",
       "_model_name": "HTMLModel",
       "_view_count": null,
       "_view_module": "@jupyter-widgets/controls",
       "_view_module_version": "1.5.0",
       "_view_name": "HTMLView",
       "description": "",
       "description_tooltip": null,
       "layout": "IPY_MODEL_4f8ae1897b3340e2a689e0912681d455",
       "placeholder": "​",
       "style": "IPY_MODEL_2d31ab106a534a6d8560cce85e5a0706",
       "value": " 1/1 [00:02&lt;00:00,  2.93s/it]"
      }
     },
     "09892ee113d8481abb6adcdc4ae70f37": {
      "model_module": "@jupyter-widgets/controls",
      "model_module_version": "1.5.0",
      "model_name": "HTMLModel",
      "state": {
       "_dom_classes": [],
       "_model_module": "@jupyter-widgets/controls",
       "_model_module_version": "1.5.0",
       "_model_name": "HTMLModel",
       "_view_count": null,
       "_view_module": "@jupyter-widgets/controls",
       "_view_module_version": "1.5.0",
       "_view_name": "HTMLView",
       "description": "",
       "description_tooltip": null,
       "layout": "IPY_MODEL_c0034c5c19e84f22afc17fe5324d9aa3",
       "placeholder": "​",
       "style": "IPY_MODEL_ee559a013844443c982cf065a03157cd",
       "value": "Generate report structure: 100%"
      }
     },
     "0c0868c9b5b8414dbda57049b93692e4": {
      "model_module": "@jupyter-widgets/base",
      "model_module_version": "1.2.0",
      "model_name": "LayoutModel",
      "state": {
       "_model_module": "@jupyter-widgets/base",
       "_model_module_version": "1.2.0",
       "_model_name": "LayoutModel",
       "_view_count": null,
       "_view_module": "@jupyter-widgets/base",
       "_view_module_version": "1.2.0",
       "_view_name": "LayoutView",
       "align_content": null,
       "align_items": null,
       "align_self": null,
       "border": null,
       "bottom": null,
       "display": null,
       "flex": null,
       "flex_flow": null,
       "grid_area": null,
       "grid_auto_columns": null,
       "grid_auto_flow": null,
       "grid_auto_rows": null,
       "grid_column": null,
       "grid_gap": null,
       "grid_row": null,
       "grid_template_areas": null,
       "grid_template_columns": null,
       "grid_template_rows": null,
       "height": null,
       "justify_content": null,
       "justify_items": null,
       "left": null,
       "margin": null,
       "max_height": null,
       "max_width": null,
       "min_height": null,
       "min_width": null,
       "object_fit": null,
       "object_position": null,
       "order": null,
       "overflow": null,
       "overflow_x": null,
       "overflow_y": null,
       "padding": null,
       "right": null,
       "top": null,
       "visibility": null,
       "width": null
      }
     },
     "0f9f2f93424743f1973270b932b1716b": {
      "model_module": "@jupyter-widgets/controls",
      "model_module_version": "1.5.0",
      "model_name": "HTMLModel",
      "state": {
       "_dom_classes": [],
       "_model_module": "@jupyter-widgets/controls",
       "_model_module_version": "1.5.0",
       "_model_name": "HTMLModel",
       "_view_count": null,
       "_view_module": "@jupyter-widgets/controls",
       "_view_module_version": "1.5.0",
       "_view_name": "HTMLView",
       "description": "",
       "description_tooltip": null,
       "layout": "IPY_MODEL_c46cb4cfd712462dae1121d9a09fcf76",
       "placeholder": "​",
       "style": "IPY_MODEL_10450d3ffe39448a8d4683d5a5035c73",
       "value": "Render HTML: 100%"
      }
     },
     "10450d3ffe39448a8d4683d5a5035c73": {
      "model_module": "@jupyter-widgets/controls",
      "model_module_version": "1.5.0",
      "model_name": "DescriptionStyleModel",
      "state": {
       "_model_module": "@jupyter-widgets/controls",
       "_model_module_version": "1.5.0",
       "_model_name": "DescriptionStyleModel",
       "_view_count": null,
       "_view_module": "@jupyter-widgets/base",
       "_view_module_version": "1.2.0",
       "_view_name": "StyleView",
       "description_width": ""
      }
     },
     "1609e7f75dcd4f7488d0cd688a1971c5": {
      "model_module": "@jupyter-widgets/controls",
      "model_module_version": "1.5.0",
      "model_name": "FloatProgressModel",
      "state": {
       "_dom_classes": [],
       "_model_module": "@jupyter-widgets/controls",
       "_model_module_version": "1.5.0",
       "_model_name": "FloatProgressModel",
       "_view_count": null,
       "_view_module": "@jupyter-widgets/controls",
       "_view_module_version": "1.5.0",
       "_view_name": "ProgressView",
       "bar_style": "success",
       "description": "",
       "description_tooltip": null,
       "layout": "IPY_MODEL_2fffa913e72f43d7a2f9b86d3b02dd3e",
       "max": 1,
       "min": 0,
       "orientation": "horizontal",
       "style": "IPY_MODEL_8eef90a66c774f79bb7dcc5a15cf9bc6",
       "value": 1
      }
     },
     "201753035baf43c493245727959ab16d": {
      "model_module": "@jupyter-widgets/base",
      "model_module_version": "1.2.0",
      "model_name": "LayoutModel",
      "state": {
       "_model_module": "@jupyter-widgets/base",
       "_model_module_version": "1.2.0",
       "_model_name": "LayoutModel",
       "_view_count": null,
       "_view_module": "@jupyter-widgets/base",
       "_view_module_version": "1.2.0",
       "_view_name": "LayoutView",
       "align_content": null,
       "align_items": null,
       "align_self": null,
       "border": null,
       "bottom": null,
       "display": null,
       "flex": null,
       "flex_flow": null,
       "grid_area": null,
       "grid_auto_columns": null,
       "grid_auto_flow": null,
       "grid_auto_rows": null,
       "grid_column": null,
       "grid_gap": null,
       "grid_row": null,
       "grid_template_areas": null,
       "grid_template_columns": null,
       "grid_template_rows": null,
       "height": null,
       "justify_content": null,
       "justify_items": null,
       "left": null,
       "margin": null,
       "max_height": null,
       "max_width": null,
       "min_height": null,
       "min_width": null,
       "object_fit": null,
       "object_position": null,
       "order": null,
       "overflow": null,
       "overflow_x": null,
       "overflow_y": null,
       "padding": null,
       "right": null,
       "top": null,
       "visibility": null,
       "width": null
      }
     },
     "22b670d364c8482384d94627c819c0b3": {
      "model_module": "@jupyter-widgets/controls",
      "model_module_version": "1.5.0",
      "model_name": "DescriptionStyleModel",
      "state": {
       "_model_module": "@jupyter-widgets/controls",
       "_model_module_version": "1.5.0",
       "_model_name": "DescriptionStyleModel",
       "_view_count": null,
       "_view_module": "@jupyter-widgets/base",
       "_view_module_version": "1.2.0",
       "_view_name": "StyleView",
       "description_width": ""
      }
     },
     "2d31ab106a534a6d8560cce85e5a0706": {
      "model_module": "@jupyter-widgets/controls",
      "model_module_version": "1.5.0",
      "model_name": "DescriptionStyleModel",
      "state": {
       "_model_module": "@jupyter-widgets/controls",
       "_model_module_version": "1.5.0",
       "_model_name": "DescriptionStyleModel",
       "_view_count": null,
       "_view_module": "@jupyter-widgets/base",
       "_view_module_version": "1.2.0",
       "_view_name": "StyleView",
       "description_width": ""
      }
     },
     "2e6e1830ab2d4a89bcb7f5f7b15bff5a": {
      "model_module": "@jupyter-widgets/controls",
      "model_module_version": "1.5.0",
      "model_name": "HTMLModel",
      "state": {
       "_dom_classes": [],
       "_model_module": "@jupyter-widgets/controls",
       "_model_module_version": "1.5.0",
       "_model_name": "HTMLModel",
       "_view_count": null,
       "_view_module": "@jupyter-widgets/controls",
       "_view_module_version": "1.5.0",
       "_view_name": "HTMLView",
       "description": "",
       "description_tooltip": null,
       "layout": "IPY_MODEL_610a45f347d14f19bb9fd7432adbd994",
       "placeholder": "​",
       "style": "IPY_MODEL_4b6507260ff84074ba1fb118f230e560",
       "value": " 23/23 [00:05&lt;00:00,  7.33it/s, Completed]"
      }
     },
     "2fffa913e72f43d7a2f9b86d3b02dd3e": {
      "model_module": "@jupyter-widgets/base",
      "model_module_version": "1.2.0",
      "model_name": "LayoutModel",
      "state": {
       "_model_module": "@jupyter-widgets/base",
       "_model_module_version": "1.2.0",
       "_model_name": "LayoutModel",
       "_view_count": null,
       "_view_module": "@jupyter-widgets/base",
       "_view_module_version": "1.2.0",
       "_view_name": "LayoutView",
       "align_content": null,
       "align_items": null,
       "align_self": null,
       "border": null,
       "bottom": null,
       "display": null,
       "flex": null,
       "flex_flow": null,
       "grid_area": null,
       "grid_auto_columns": null,
       "grid_auto_flow": null,
       "grid_auto_rows": null,
       "grid_column": null,
       "grid_gap": null,
       "grid_row": null,
       "grid_template_areas": null,
       "grid_template_columns": null,
       "grid_template_rows": null,
       "height": null,
       "justify_content": null,
       "justify_items": null,
       "left": null,
       "margin": null,
       "max_height": null,
       "max_width": null,
       "min_height": null,
       "min_width": null,
       "object_fit": null,
       "object_position": null,
       "order": null,
       "overflow": null,
       "overflow_x": null,
       "overflow_y": null,
       "padding": null,
       "right": null,
       "top": null,
       "visibility": null,
       "width": null
      }
     },
     "451b65131854411dab08e39c2dbd6903": {
      "model_module": "@jupyter-widgets/controls",
      "model_module_version": "1.5.0",
      "model_name": "HBoxModel",
      "state": {
       "_dom_classes": [],
       "_model_module": "@jupyter-widgets/controls",
       "_model_module_version": "1.5.0",
       "_model_name": "HBoxModel",
       "_view_count": null,
       "_view_module": "@jupyter-widgets/controls",
       "_view_module_version": "1.5.0",
       "_view_name": "HBoxView",
       "box_style": "",
       "children": [
        "IPY_MODEL_0f9f2f93424743f1973270b932b1716b",
        "IPY_MODEL_a7e34091976242fdaaddffce309947dd",
        "IPY_MODEL_8f835d3fac2e43a3b34acab990941e14"
       ],
       "layout": "IPY_MODEL_9c99c69b93054e6a9346a465b4f508f5"
      }
     },
     "46bb3c4d64ff489b93c01bf73a5d06b6": {
      "model_module": "@jupyter-widgets/controls",
      "model_module_version": "1.5.0",
      "model_name": "HBoxModel",
      "state": {
       "_dom_classes": [],
       "_model_module": "@jupyter-widgets/controls",
       "_model_module_version": "1.5.0",
       "_model_name": "HBoxModel",
       "_view_count": null,
       "_view_module": "@jupyter-widgets/controls",
       "_view_module_version": "1.5.0",
       "_view_name": "HBoxView",
       "box_style": "",
       "children": [
        "IPY_MODEL_09892ee113d8481abb6adcdc4ae70f37",
        "IPY_MODEL_1609e7f75dcd4f7488d0cd688a1971c5",
        "IPY_MODEL_05f62a37cb984250bad4faeda03b0cb0"
       ],
       "layout": "IPY_MODEL_46c0b794751c4ba6a3935c4d2c3a206a"
      }
     },
     "46c0b794751c4ba6a3935c4d2c3a206a": {
      "model_module": "@jupyter-widgets/base",
      "model_module_version": "1.2.0",
      "model_name": "LayoutModel",
      "state": {
       "_model_module": "@jupyter-widgets/base",
       "_model_module_version": "1.2.0",
       "_model_name": "LayoutModel",
       "_view_count": null,
       "_view_module": "@jupyter-widgets/base",
       "_view_module_version": "1.2.0",
       "_view_name": "LayoutView",
       "align_content": null,
       "align_items": null,
       "align_self": null,
       "border": null,
       "bottom": null,
       "display": null,
       "flex": null,
       "flex_flow": null,
       "grid_area": null,
       "grid_auto_columns": null,
       "grid_auto_flow": null,
       "grid_auto_rows": null,
       "grid_column": null,
       "grid_gap": null,
       "grid_row": null,
       "grid_template_areas": null,
       "grid_template_columns": null,
       "grid_template_rows": null,
       "height": null,
       "justify_content": null,
       "justify_items": null,
       "left": null,
       "margin": null,
       "max_height": null,
       "max_width": null,
       "min_height": null,
       "min_width": null,
       "object_fit": null,
       "object_position": null,
       "order": null,
       "overflow": null,
       "overflow_x": null,
       "overflow_y": null,
       "padding": null,
       "right": null,
       "top": null,
       "visibility": null,
       "width": null
      }
     },
     "4b6507260ff84074ba1fb118f230e560": {
      "model_module": "@jupyter-widgets/controls",
      "model_module_version": "1.5.0",
      "model_name": "DescriptionStyleModel",
      "state": {
       "_model_module": "@jupyter-widgets/controls",
       "_model_module_version": "1.5.0",
       "_model_name": "DescriptionStyleModel",
       "_view_count": null,
       "_view_module": "@jupyter-widgets/base",
       "_view_module_version": "1.2.0",
       "_view_name": "StyleView",
       "description_width": ""
      }
     },
     "4f8ae1897b3340e2a689e0912681d455": {
      "model_module": "@jupyter-widgets/base",
      "model_module_version": "1.2.0",
      "model_name": "LayoutModel",
      "state": {
       "_model_module": "@jupyter-widgets/base",
       "_model_module_version": "1.2.0",
       "_model_name": "LayoutModel",
       "_view_count": null,
       "_view_module": "@jupyter-widgets/base",
       "_view_module_version": "1.2.0",
       "_view_name": "LayoutView",
       "align_content": null,
       "align_items": null,
       "align_self": null,
       "border": null,
       "bottom": null,
       "display": null,
       "flex": null,
       "flex_flow": null,
       "grid_area": null,
       "grid_auto_columns": null,
       "grid_auto_flow": null,
       "grid_auto_rows": null,
       "grid_column": null,
       "grid_gap": null,
       "grid_row": null,
       "grid_template_areas": null,
       "grid_template_columns": null,
       "grid_template_rows": null,
       "height": null,
       "justify_content": null,
       "justify_items": null,
       "left": null,
       "margin": null,
       "max_height": null,
       "max_width": null,
       "min_height": null,
       "min_width": null,
       "object_fit": null,
       "object_position": null,
       "order": null,
       "overflow": null,
       "overflow_x": null,
       "overflow_y": null,
       "padding": null,
       "right": null,
       "top": null,
       "visibility": null,
       "width": null
      }
     },
     "610a45f347d14f19bb9fd7432adbd994": {
      "model_module": "@jupyter-widgets/base",
      "model_module_version": "1.2.0",
      "model_name": "LayoutModel",
      "state": {
       "_model_module": "@jupyter-widgets/base",
       "_model_module_version": "1.2.0",
       "_model_name": "LayoutModel",
       "_view_count": null,
       "_view_module": "@jupyter-widgets/base",
       "_view_module_version": "1.2.0",
       "_view_name": "LayoutView",
       "align_content": null,
       "align_items": null,
       "align_self": null,
       "border": null,
       "bottom": null,
       "display": null,
       "flex": null,
       "flex_flow": null,
       "grid_area": null,
       "grid_auto_columns": null,
       "grid_auto_flow": null,
       "grid_auto_rows": null,
       "grid_column": null,
       "grid_gap": null,
       "grid_row": null,
       "grid_template_areas": null,
       "grid_template_columns": null,
       "grid_template_rows": null,
       "height": null,
       "justify_content": null,
       "justify_items": null,
       "left": null,
       "margin": null,
       "max_height": null,
       "max_width": null,
       "min_height": null,
       "min_width": null,
       "object_fit": null,
       "object_position": null,
       "order": null,
       "overflow": null,
       "overflow_x": null,
       "overflow_y": null,
       "padding": null,
       "right": null,
       "top": null,
       "visibility": null,
       "width": null
      }
     },
     "8eef90a66c774f79bb7dcc5a15cf9bc6": {
      "model_module": "@jupyter-widgets/controls",
      "model_module_version": "1.5.0",
      "model_name": "ProgressStyleModel",
      "state": {
       "_model_module": "@jupyter-widgets/controls",
       "_model_module_version": "1.5.0",
       "_model_name": "ProgressStyleModel",
       "_view_count": null,
       "_view_module": "@jupyter-widgets/base",
       "_view_module_version": "1.2.0",
       "_view_name": "StyleView",
       "bar_color": null,
       "description_width": ""
      }
     },
     "8f835d3fac2e43a3b34acab990941e14": {
      "model_module": "@jupyter-widgets/controls",
      "model_module_version": "1.5.0",
      "model_name": "HTMLModel",
      "state": {
       "_dom_classes": [],
       "_model_module": "@jupyter-widgets/controls",
       "_model_module_version": "1.5.0",
       "_model_name": "HTMLModel",
       "_view_count": null,
       "_view_module": "@jupyter-widgets/controls",
       "_view_module_version": "1.5.0",
       "_view_name": "HTMLView",
       "description": "",
       "description_tooltip": null,
       "layout": "IPY_MODEL_0c0868c9b5b8414dbda57049b93692e4",
       "placeholder": "​",
       "style": "IPY_MODEL_22b670d364c8482384d94627c819c0b3",
       "value": " 1/1 [00:00&lt;00:00,  1.16it/s]"
      }
     },
     "9c99c69b93054e6a9346a465b4f508f5": {
      "model_module": "@jupyter-widgets/base",
      "model_module_version": "1.2.0",
      "model_name": "LayoutModel",
      "state": {
       "_model_module": "@jupyter-widgets/base",
       "_model_module_version": "1.2.0",
       "_model_name": "LayoutModel",
       "_view_count": null,
       "_view_module": "@jupyter-widgets/base",
       "_view_module_version": "1.2.0",
       "_view_name": "LayoutView",
       "align_content": null,
       "align_items": null,
       "align_self": null,
       "border": null,
       "bottom": null,
       "display": null,
       "flex": null,
       "flex_flow": null,
       "grid_area": null,
       "grid_auto_columns": null,
       "grid_auto_flow": null,
       "grid_auto_rows": null,
       "grid_column": null,
       "grid_gap": null,
       "grid_row": null,
       "grid_template_areas": null,
       "grid_template_columns": null,
       "grid_template_rows": null,
       "height": null,
       "justify_content": null,
       "justify_items": null,
       "left": null,
       "margin": null,
       "max_height": null,
       "max_width": null,
       "min_height": null,
       "min_width": null,
       "object_fit": null,
       "object_position": null,
       "order": null,
       "overflow": null,
       "overflow_x": null,
       "overflow_y": null,
       "padding": null,
       "right": null,
       "top": null,
       "visibility": null,
       "width": null
      }
     },
     "a2a4a3f12b2a4c85ad038f2adf6b1048": {
      "model_module": "@jupyter-widgets/controls",
      "model_module_version": "1.5.0",
      "model_name": "FloatProgressModel",
      "state": {
       "_dom_classes": [],
       "_model_module": "@jupyter-widgets/controls",
       "_model_module_version": "1.5.0",
       "_model_name": "FloatProgressModel",
       "_view_count": null,
       "_view_module": "@jupyter-widgets/controls",
       "_view_module_version": "1.5.0",
       "_view_name": "ProgressView",
       "bar_style": "success",
       "description": "",
       "description_tooltip": null,
       "layout": "IPY_MODEL_ac43cf8b776d46369304c2da1d690fd6",
       "max": 5,
       "min": 0,
       "orientation": "horizontal",
       "style": "IPY_MODEL_b44f1e33d98c488f89a0d51cdcda86ab",
       "value": 5
      }
     },
     "a7e34091976242fdaaddffce309947dd": {
      "model_module": "@jupyter-widgets/controls",
      "model_module_version": "1.5.0",
      "model_name": "FloatProgressModel",
      "state": {
       "_dom_classes": [],
       "_model_module": "@jupyter-widgets/controls",
       "_model_module_version": "1.5.0",
       "_model_name": "FloatProgressModel",
       "_view_count": null,
       "_view_module": "@jupyter-widgets/controls",
       "_view_module_version": "1.5.0",
       "_view_name": "ProgressView",
       "bar_style": "success",
       "description": "",
       "description_tooltip": null,
       "layout": "IPY_MODEL_d13aa47b711e4478b7de9b776779d79d",
       "max": 1,
       "min": 0,
       "orientation": "horizontal",
       "style": "IPY_MODEL_f5dfc4622e1b433e9a89bf17349ea95c",
       "value": 1
      }
     },
     "ac43cf8b776d46369304c2da1d690fd6": {
      "model_module": "@jupyter-widgets/base",
      "model_module_version": "1.2.0",
      "model_name": "LayoutModel",
      "state": {
       "_model_module": "@jupyter-widgets/base",
       "_model_module_version": "1.2.0",
       "_model_name": "LayoutModel",
       "_view_count": null,
       "_view_module": "@jupyter-widgets/base",
       "_view_module_version": "1.2.0",
       "_view_name": "LayoutView",
       "align_content": null,
       "align_items": null,
       "align_self": null,
       "border": null,
       "bottom": null,
       "display": null,
       "flex": null,
       "flex_flow": null,
       "grid_area": null,
       "grid_auto_columns": null,
       "grid_auto_flow": null,
       "grid_auto_rows": null,
       "grid_column": null,
       "grid_gap": null,
       "grid_row": null,
       "grid_template_areas": null,
       "grid_template_columns": null,
       "grid_template_rows": null,
       "height": null,
       "justify_content": null,
       "justify_items": null,
       "left": null,
       "margin": null,
       "max_height": null,
       "max_width": null,
       "min_height": null,
       "min_width": null,
       "object_fit": null,
       "object_position": null,
       "order": null,
       "overflow": null,
       "overflow_x": null,
       "overflow_y": null,
       "padding": null,
       "right": null,
       "top": null,
       "visibility": null,
       "width": null
      }
     },
     "b44f1e33d98c488f89a0d51cdcda86ab": {
      "model_module": "@jupyter-widgets/controls",
      "model_module_version": "1.5.0",
      "model_name": "ProgressStyleModel",
      "state": {
       "_model_module": "@jupyter-widgets/controls",
       "_model_module_version": "1.5.0",
       "_model_name": "ProgressStyleModel",
       "_view_count": null,
       "_view_module": "@jupyter-widgets/base",
       "_view_module_version": "1.2.0",
       "_view_name": "StyleView",
       "bar_color": null,
       "description_width": ""
      }
     },
     "c0034c5c19e84f22afc17fe5324d9aa3": {
      "model_module": "@jupyter-widgets/base",
      "model_module_version": "1.2.0",
      "model_name": "LayoutModel",
      "state": {
       "_model_module": "@jupyter-widgets/base",
       "_model_module_version": "1.2.0",
       "_model_name": "LayoutModel",
       "_view_count": null,
       "_view_module": "@jupyter-widgets/base",
       "_view_module_version": "1.2.0",
       "_view_name": "LayoutView",
       "align_content": null,
       "align_items": null,
       "align_self": null,
       "border": null,
       "bottom": null,
       "display": null,
       "flex": null,
       "flex_flow": null,
       "grid_area": null,
       "grid_auto_columns": null,
       "grid_auto_flow": null,
       "grid_auto_rows": null,
       "grid_column": null,
       "grid_gap": null,
       "grid_row": null,
       "grid_template_areas": null,
       "grid_template_columns": null,
       "grid_template_rows": null,
       "height": null,
       "justify_content": null,
       "justify_items": null,
       "left": null,
       "margin": null,
       "max_height": null,
       "max_width": null,
       "min_height": null,
       "min_width": null,
       "object_fit": null,
       "object_position": null,
       "order": null,
       "overflow": null,
       "overflow_x": null,
       "overflow_y": null,
       "padding": null,
       "right": null,
       "top": null,
       "visibility": null,
       "width": null
      }
     },
     "c46cb4cfd712462dae1121d9a09fcf76": {
      "model_module": "@jupyter-widgets/base",
      "model_module_version": "1.2.0",
      "model_name": "LayoutModel",
      "state": {
       "_model_module": "@jupyter-widgets/base",
       "_model_module_version": "1.2.0",
       "_model_name": "LayoutModel",
       "_view_count": null,
       "_view_module": "@jupyter-widgets/base",
       "_view_module_version": "1.2.0",
       "_view_name": "LayoutView",
       "align_content": null,
       "align_items": null,
       "align_self": null,
       "border": null,
       "bottom": null,
       "display": null,
       "flex": null,
       "flex_flow": null,
       "grid_area": null,
       "grid_auto_columns": null,
       "grid_auto_flow": null,
       "grid_auto_rows": null,
       "grid_column": null,
       "grid_gap": null,
       "grid_row": null,
       "grid_template_areas": null,
       "grid_template_columns": null,
       "grid_template_rows": null,
       "height": null,
       "justify_content": null,
       "justify_items": null,
       "left": null,
       "margin": null,
       "max_height": null,
       "max_width": null,
       "min_height": null,
       "min_width": null,
       "object_fit": null,
       "object_position": null,
       "order": null,
       "overflow": null,
       "overflow_x": null,
       "overflow_y": null,
       "padding": null,
       "right": null,
       "top": null,
       "visibility": null,
       "width": null
      }
     },
     "d13aa47b711e4478b7de9b776779d79d": {
      "model_module": "@jupyter-widgets/base",
      "model_module_version": "1.2.0",
      "model_name": "LayoutModel",
      "state": {
       "_model_module": "@jupyter-widgets/base",
       "_model_module_version": "1.2.0",
       "_model_name": "LayoutModel",
       "_view_count": null,
       "_view_module": "@jupyter-widgets/base",
       "_view_module_version": "1.2.0",
       "_view_name": "LayoutView",
       "align_content": null,
       "align_items": null,
       "align_self": null,
       "border": null,
       "bottom": null,
       "display": null,
       "flex": null,
       "flex_flow": null,
       "grid_area": null,
       "grid_auto_columns": null,
       "grid_auto_flow": null,
       "grid_auto_rows": null,
       "grid_column": null,
       "grid_gap": null,
       "grid_row": null,
       "grid_template_areas": null,
       "grid_template_columns": null,
       "grid_template_rows": null,
       "height": null,
       "justify_content": null,
       "justify_items": null,
       "left": null,
       "margin": null,
       "max_height": null,
       "max_width": null,
       "min_height": null,
       "min_width": null,
       "object_fit": null,
       "object_position": null,
       "order": null,
       "overflow": null,
       "overflow_x": null,
       "overflow_y": null,
       "padding": null,
       "right": null,
       "top": null,
       "visibility": null,
       "width": null
      }
     },
     "d438401419d64055a2d596d00b42e7e6": {
      "model_module": "@jupyter-widgets/controls",
      "model_module_version": "1.5.0",
      "model_name": "HTMLModel",
      "state": {
       "_dom_classes": [],
       "_model_module": "@jupyter-widgets/controls",
       "_model_module_version": "1.5.0",
       "_model_name": "HTMLModel",
       "_view_count": null,
       "_view_module": "@jupyter-widgets/controls",
       "_view_module_version": "1.5.0",
       "_view_name": "HTMLView",
       "description": "",
       "description_tooltip": null,
       "layout": "IPY_MODEL_f396efb94bfd4c708086c65e0539bcb9",
       "placeholder": "​",
       "style": "IPY_MODEL_dcacde03e0ed4a4db4cca464ebfdc67a",
       "value": "Summarize dataset: 100%"
      }
     },
     "d9eb50474df54aa0b6ff1519e435da95": {
      "model_module": "@jupyter-widgets/controls",
      "model_module_version": "1.5.0",
      "model_name": "HBoxModel",
      "state": {
       "_dom_classes": [],
       "_model_module": "@jupyter-widgets/controls",
       "_model_module_version": "1.5.0",
       "_model_name": "HBoxModel",
       "_view_count": null,
       "_view_module": "@jupyter-widgets/controls",
       "_view_module_version": "1.5.0",
       "_view_name": "HBoxView",
       "box_style": "",
       "children": [
        "IPY_MODEL_d438401419d64055a2d596d00b42e7e6",
        "IPY_MODEL_a2a4a3f12b2a4c85ad038f2adf6b1048",
        "IPY_MODEL_2e6e1830ab2d4a89bcb7f5f7b15bff5a"
       ],
       "layout": "IPY_MODEL_201753035baf43c493245727959ab16d"
      }
     },
     "dcacde03e0ed4a4db4cca464ebfdc67a": {
      "model_module": "@jupyter-widgets/controls",
      "model_module_version": "1.5.0",
      "model_name": "DescriptionStyleModel",
      "state": {
       "_model_module": "@jupyter-widgets/controls",
       "_model_module_version": "1.5.0",
       "_model_name": "DescriptionStyleModel",
       "_view_count": null,
       "_view_module": "@jupyter-widgets/base",
       "_view_module_version": "1.2.0",
       "_view_name": "StyleView",
       "description_width": ""
      }
     },
     "ee559a013844443c982cf065a03157cd": {
      "model_module": "@jupyter-widgets/controls",
      "model_module_version": "1.5.0",
      "model_name": "DescriptionStyleModel",
      "state": {
       "_model_module": "@jupyter-widgets/controls",
       "_model_module_version": "1.5.0",
       "_model_name": "DescriptionStyleModel",
       "_view_count": null,
       "_view_module": "@jupyter-widgets/base",
       "_view_module_version": "1.2.0",
       "_view_name": "StyleView",
       "description_width": ""
      }
     },
     "f396efb94bfd4c708086c65e0539bcb9": {
      "model_module": "@jupyter-widgets/base",
      "model_module_version": "1.2.0",
      "model_name": "LayoutModel",
      "state": {
       "_model_module": "@jupyter-widgets/base",
       "_model_module_version": "1.2.0",
       "_model_name": "LayoutModel",
       "_view_count": null,
       "_view_module": "@jupyter-widgets/base",
       "_view_module_version": "1.2.0",
       "_view_name": "LayoutView",
       "align_content": null,
       "align_items": null,
       "align_self": null,
       "border": null,
       "bottom": null,
       "display": null,
       "flex": null,
       "flex_flow": null,
       "grid_area": null,
       "grid_auto_columns": null,
       "grid_auto_flow": null,
       "grid_auto_rows": null,
       "grid_column": null,
       "grid_gap": null,
       "grid_row": null,
       "grid_template_areas": null,
       "grid_template_columns": null,
       "grid_template_rows": null,
       "height": null,
       "justify_content": null,
       "justify_items": null,
       "left": null,
       "margin": null,
       "max_height": null,
       "max_width": null,
       "min_height": null,
       "min_width": null,
       "object_fit": null,
       "object_position": null,
       "order": null,
       "overflow": null,
       "overflow_x": null,
       "overflow_y": null,
       "padding": null,
       "right": null,
       "top": null,
       "visibility": null,
       "width": null
      }
     },
     "f5dfc4622e1b433e9a89bf17349ea95c": {
      "model_module": "@jupyter-widgets/controls",
      "model_module_version": "1.5.0",
      "model_name": "ProgressStyleModel",
      "state": {
       "_model_module": "@jupyter-widgets/controls",
       "_model_module_version": "1.5.0",
       "_model_name": "ProgressStyleModel",
       "_view_count": null,
       "_view_module": "@jupyter-widgets/base",
       "_view_module_version": "1.2.0",
       "_view_name": "StyleView",
       "bar_color": null,
       "description_width": ""
      }
     }
    },
    "version_major": 2,
    "version_minor": 0
   }
  }
 },
 "nbformat": 4,
 "nbformat_minor": 5
}
